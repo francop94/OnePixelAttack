{
 "cells": [
  {
   "cell_type": "markdown",
   "metadata": {},
   "source": [
    "# One Pixel Attack\n",
    "## Cifar10\n",
    "\n",
    "### Franco Pinto, 1592439\n",
    "### Floris Ciprian Dinu, 1593921\n",
    "### 20 September, 2018"
   ]
  },
  {
   "cell_type": "markdown",
   "metadata": {},
   "source": [
    "![](images/pred2.png \"All it takes is one pixel\")"
   ]
  },
  {
   "cell_type": "markdown",
   "metadata": {},
   "source": [
    "This notebook will demonstrate the one pixel attack with two different neural network models. By using differential evolution, we find a special pixel that can modify a target image such that the network misclassifies the image (which it previously correctly classified).\n",
    "\n",
    "In theory, we want models that don't get fooled by such tiny changes. Especially in images, it is undesirable to have a small alteration in the input result in a drastic change in the output. However, even the most accurate neural networks are susceptible to this type of attack.\n"
   ]
  },
  {
   "cell_type": "markdown",
   "metadata": {},
   "source": [
    "## Imports"
   ]
  },
  {
   "cell_type": "code",
   "execution_count": 2,
   "metadata": {},
   "outputs": [],
   "source": [
    "# Python Libraries\n",
    "%matplotlib inline\n",
    "import pickle\n",
    "import numpy as np\n",
    "import pandas as pd\n",
    "import matplotlib\n",
    "from matplotlib import pyplot as plt\n",
    "from keras.datasets import cifar10\n",
    "from keras import backend as K\n",
    "\n",
    "# Import Networks\n",
    "from networks.lenet import LeNet\n",
    "from networks.resnet import ResNet\n",
    "\n",
    "\n",
    "# Helper functions\n",
    "from differential_evolution import differential_evolution\n",
    "import helper\n",
    "\n",
    "matplotlib.style.use('ggplot')\n",
    "np.random.seed(100)"
   ]
  },
  {
   "cell_type": "markdown",
   "metadata": {},
   "source": [
    "## Load Dataset"
   ]
  },
  {
   "cell_type": "markdown",
   "metadata": {},
   "source": [
    "For this attack, we will use the Cifar10 dataset packaged by Keras. The task of the dataset is to correctly classify a 32x32 pixel image in 1 of 10 categories (e.g., bird, deer, truck).\n",
    "\n",
    "The code below will load the Cifar10 dataset. Keras will need to download the dataset if it is not cached locally already."
   ]
  },
  {
   "cell_type": "code",
   "execution_count": 3,
   "metadata": {},
   "outputs": [],
   "source": [
    "(x_train, y_train), (x_test, y_test) = cifar10.load_data()"
   ]
  },
  {
   "cell_type": "code",
   "execution_count": 4,
   "metadata": {},
   "outputs": [],
   "source": [
    "class_names = ['airplane', 'automobile', 'bird', 'cat', 'deer', 'dog', 'frog', 'horse', 'ship', 'truck']"
   ]
  },
  {
   "cell_type": "markdown",
   "metadata": {},
   "source": [
    "We can access and display any image in the dataset by its index. For instance, here is a horse."
   ]
  },
  {
   "cell_type": "code",
   "execution_count": 19,
   "metadata": {},
   "outputs": [
    {
     "data": {
      "image/png": "[encoded data removed]",
      "text/plain": [
       "<matplotlib.figure.Figure at 0x18391e5828>"
      ]
     },
     "metadata": {},
     "output_type": "display_data"
    }
   ],
   "source": [
    "image = 99 # Image index in the test set\n",
    "helper.plot_image(x_test[image])"
   ]
  },
  {
   "cell_type": "markdown",
   "metadata": {},
   "source": [
    "## Image Perturbation"
   ]
  },
  {
   "cell_type": "markdown",
   "metadata": {},
   "source": [
    "To begin, we need a function to modify one or more pixels in an image. \n",
    "\n",
    "We can define the perturbation of a pixel as a 5-tuple \n",
    "\n",
    "$$\\textbf{x} = (x, y, r, g, b)$$\n",
    "\n",
    "where $x, y$ are the coordinates of the pixel from 0 to 31, and $r,g,b$ are the red, green, and blue values from 0 to 255. \n",
    "\n",
    "Then the function to perturb an image can take as an input the image and $X$, and output a copy of the image with each pixel at $x_i, y_i$ modified to have the color $r_i, g_i, b_i$. "
   ]
  },
  {
   "cell_type": "code",
   "execution_count": 6,
   "metadata": {},
   "outputs": [],
   "source": [
    "def perturb_image(xs, img):\n",
    "    if xs.ndim < 2:\n",
    "        xs = np.array([xs])\n",
    "    \n",
    "    # Copy the image n == len(xs) times so that we can \n",
    "    # create n new perturbed images\n",
    "    tile = [len(xs)] + [1]*(xs.ndim+1)\n",
    "    imgs = np.tile(img, tile)\n",
    "    \n",
    "    # Make sure to floor the members of xs as int types\n",
    "    xs = xs.astype(int)\n",
    "    \n",
    "    for x,img in zip(xs, imgs):\n",
    "        pixels = np.split(x, len(x) // 5)\n",
    "        for pixel in pixels:\n",
    "            # At each pixel's x,y position, assign its rgb value\n",
    "            x_pos, y_pos, *rgb = pixel\n",
    "            img[x_pos, y_pos] = rgb\n",
    "    \n",
    "    return imgs"
   ]
  },
  {
   "cell_type": "markdown",
   "metadata": {},
   "source": [
    "Now we can modify the pixels of any image we want.\n",
    "\n",
    "Let's modify our horse image by making pixel (16,16) yellow."
   ]
  },
  {
   "cell_type": "code",
   "execution_count": 20,
   "metadata": {},
   "outputs": [
    {
     "data": {
      "image/png": "[encoded data removed]",
      "text/plain": [
       "<matplotlib.figure.Figure at 0x183923b898>"
      ]
     },
     "metadata": {},
     "output_type": "display_data"
    }
   ],
   "source": [
    "image = 99 # Image index in the test set\n",
    "pixel = np.array([20, 18, 132, 255, 0]) # pixel = x,y,r,g,b\n",
    "image_perturbed = perturb_image(pixel, x_test[image])[0]\n",
    "\n",
    "helper.plot_image(image_perturbed)\n"
   ]
  },
  {
   "cell_type": "markdown",
   "metadata": {},
   "source": [
    "## Load Models"
   ]
  },
  {
   "cell_type": "markdown",
   "metadata": {},
   "source": [
    "To demonstrate the attack, we need some neural network models trained on the Cifar10 dataset. We will now load some pretrained models, which can be found in the `networks/models` directory."
   ]
  },
  {
   "cell_type": "markdown",
   "metadata": {},
   "source": [
    "There are two models included in this repository, `lenet` and `resnet` which will be loaded from disk automatically."
   ]
  },
  {
   "cell_type": "code",
   "execution_count": 9,
   "metadata": {},
   "outputs": [
    {
     "name": "stdout",
     "output_type": "stream",
     "text": [
      "Successfully loaded lenet\n",
      "Successfully loaded resnet\n"
     ]
    }
   ],
   "source": [
    "lenet = LeNet()\n",
    "resnet = ResNet()\n",
    "\n",
    "models = [lenet, resnet]"
   ]
  },
  {
   "cell_type": "markdown",
   "metadata": {},
   "source": [
    "### Calculate Model Accuracies"
   ]
  },
  {
   "cell_type": "markdown",
   "metadata": {},
   "source": [
    "After loading the models, we would like to evaluate all test images with each model to ensure that we only attack the images which have been classified correctly. The code below will also display the accuracy and number of parameters of each model."
   ]
  },
  {
   "cell_type": "code",
   "execution_count": 24,
   "metadata": {
    "scrolled": false
   },
   "outputs": [
    {
     "name": "stdout",
     "output_type": "stream",
     "text": [
      "Evaluating lenet\n",
      "Evaluating lenet\n"
     ]
    },
    {
     "data": {
      "text/html": [
       "<div>\n",
       "<style scoped>\n",
       "    .dataframe tbody tr th:only-of-type {\n",
       "        vertical-align: middle;\n",
       "    }\n",
       "\n",
       "    .dataframe tbody tr th {\n",
       "        vertical-align: top;\n",
       "    }\n",
       "\n",
       "    .dataframe thead th {\n",
       "        text-align: right;\n",
       "    }\n",
       "</style>\n",
       "<table border=\"1\" class=\"dataframe\">\n",
       "  <thead>\n",
       "    <tr style=\"text-align: right;\">\n",
       "      <th></th>\n",
       "      <th>name</th>\n",
       "      <th>img</th>\n",
       "      <th>label</th>\n",
       "      <th>confidence</th>\n",
       "      <th>pred</th>\n",
       "    </tr>\n",
       "  </thead>\n",
       "  <tbody>\n",
       "    <tr>\n",
       "      <th>0</th>\n",
       "      <td>lenet</td>\n",
       "      <td>0</td>\n",
       "      <td>3</td>\n",
       "      <td>0.845718</td>\n",
       "      <td>[0.000266958, 0.00414062, 0.00860135, 0.845718...</td>\n",
       "    </tr>\n",
       "    <tr>\n",
       "      <th>1</th>\n",
       "      <td>lenet</td>\n",
       "      <td>1</td>\n",
       "      <td>8</td>\n",
       "      <td>0.897515</td>\n",
       "      <td>[0.0306152, 0.0516909, 0.000123243, 2.29141e-0...</td>\n",
       "    </tr>\n",
       "    <tr>\n",
       "      <th>2</th>\n",
       "      <td>lenet</td>\n",
       "      <td>2</td>\n",
       "      <td>8</td>\n",
       "      <td>0.883613</td>\n",
       "      <td>[0.0104792, 0.0822038, 0.000511889, 0.00142718...</td>\n",
       "    </tr>\n",
       "    <tr>\n",
       "      <th>3</th>\n",
       "      <td>lenet</td>\n",
       "      <td>3</td>\n",
       "      <td>0</td>\n",
       "      <td>0.869531</td>\n",
       "      <td>[0.869531, 0.00834104, 0.01472, 0.00101565, 0....</td>\n",
       "    </tr>\n",
       "    <tr>\n",
       "      <th>4</th>\n",
       "      <td>lenet</td>\n",
       "      <td>4</td>\n",
       "      <td>6</td>\n",
       "      <td>0.995537</td>\n",
       "      <td>[1.13859e-08, 1.09058e-08, 0.00216072, 0.00010...</td>\n",
       "    </tr>\n",
       "    <tr>\n",
       "      <th>5</th>\n",
       "      <td>lenet</td>\n",
       "      <td>5</td>\n",
       "      <td>6</td>\n",
       "      <td>0.996236</td>\n",
       "      <td>[1.1625e-07, 1.74235e-06, 0.000252265, 0.00055...</td>\n",
       "    </tr>\n",
       "    <tr>\n",
       "      <th>6</th>\n",
       "      <td>lenet</td>\n",
       "      <td>6</td>\n",
       "      <td>1</td>\n",
       "      <td>0.993709</td>\n",
       "      <td>[0.000167215, 0.993709, 0.000257847, 0.0005744...</td>\n",
       "    </tr>\n",
       "    <tr>\n",
       "      <th>7</th>\n",
       "      <td>lenet</td>\n",
       "      <td>7</td>\n",
       "      <td>6</td>\n",
       "      <td>0.904880</td>\n",
       "      <td>[0.00101984, 0.000326674, 0.0842279, 0.0008128...</td>\n",
       "    </tr>\n",
       "    <tr>\n",
       "      <th>8</th>\n",
       "      <td>lenet</td>\n",
       "      <td>8</td>\n",
       "      <td>3</td>\n",
       "      <td>0.461697</td>\n",
       "      <td>[0.000203215, 5.78128e-05, 0.07643, 0.461697, ...</td>\n",
       "    </tr>\n",
       "    <tr>\n",
       "      <th>9</th>\n",
       "      <td>lenet</td>\n",
       "      <td>9</td>\n",
       "      <td>1</td>\n",
       "      <td>0.770601</td>\n",
       "      <td>[0.00639549, 0.770601, 0.000119752, 0.00030886...</td>\n",
       "    </tr>\n",
       "    <tr>\n",
       "      <th>10</th>\n",
       "      <td>lenet</td>\n",
       "      <td>11</td>\n",
       "      <td>9</td>\n",
       "      <td>0.999691</td>\n",
       "      <td>[1.32363e-06, 0.000304024, 1.59654e-07, 3.0985...</td>\n",
       "    </tr>\n",
       "    <tr>\n",
       "      <th>11</th>\n",
       "      <td>lenet</td>\n",
       "      <td>13</td>\n",
       "      <td>7</td>\n",
       "      <td>0.999760</td>\n",
       "      <td>[5.04496e-07, 3.42811e-07, 9.53116e-07, 3.4361...</td>\n",
       "    </tr>\n",
       "    <tr>\n",
       "      <th>12</th>\n",
       "      <td>lenet</td>\n",
       "      <td>14</td>\n",
       "      <td>9</td>\n",
       "      <td>0.891204</td>\n",
       "      <td>[0.000139325, 0.108023, 1.08603e-05, 1.95006e-...</td>\n",
       "    </tr>\n",
       "    <tr>\n",
       "      <th>13</th>\n",
       "      <td>lenet</td>\n",
       "      <td>16</td>\n",
       "      <td>5</td>\n",
       "      <td>0.940507</td>\n",
       "      <td>[1.74026e-05, 3.76837e-06, 0.00026045, 0.05727...</td>\n",
       "    </tr>\n",
       "    <tr>\n",
       "      <th>14</th>\n",
       "      <td>lenet</td>\n",
       "      <td>17</td>\n",
       "      <td>7</td>\n",
       "      <td>0.441056</td>\n",
       "      <td>[0.0275708, 0.0172494, 0.0503869, 0.244002, 0....</td>\n",
       "    </tr>\n",
       "    <tr>\n",
       "      <th>15</th>\n",
       "      <td>lenet</td>\n",
       "      <td>18</td>\n",
       "      <td>8</td>\n",
       "      <td>0.999845</td>\n",
       "      <td>[6.63293e-05, 2.14722e-05, 1.77057e-06, 1.7324...</td>\n",
       "    </tr>\n",
       "    <tr>\n",
       "      <th>16</th>\n",
       "      <td>lenet</td>\n",
       "      <td>19</td>\n",
       "      <td>6</td>\n",
       "      <td>0.999860</td>\n",
       "      <td>[2.35309e-07, 6.90763e-07, 6.41021e-05, 4.5834...</td>\n",
       "    </tr>\n",
       "    <tr>\n",
       "      <th>17</th>\n",
       "      <td>lenet</td>\n",
       "      <td>20</td>\n",
       "      <td>7</td>\n",
       "      <td>0.868636</td>\n",
       "      <td>[0.00021338, 0.00299071, 9.82287e-05, 0.001910...</td>\n",
       "    </tr>\n",
       "    <tr>\n",
       "      <th>18</th>\n",
       "      <td>lenet</td>\n",
       "      <td>21</td>\n",
       "      <td>0</td>\n",
       "      <td>0.817533</td>\n",
       "      <td>[0.817533, 2.90745e-10, 0.182461, 5.52559e-06,...</td>\n",
       "    </tr>\n",
       "    <tr>\n",
       "      <th>19</th>\n",
       "      <td>lenet</td>\n",
       "      <td>22</td>\n",
       "      <td>4</td>\n",
       "      <td>0.933491</td>\n",
       "      <td>[0.0201955, 3.93445e-05, 0.0284128, 0.00920404...</td>\n",
       "    </tr>\n",
       "    <tr>\n",
       "      <th>20</th>\n",
       "      <td>lenet</td>\n",
       "      <td>23</td>\n",
       "      <td>9</td>\n",
       "      <td>0.999973</td>\n",
       "      <td>[1.80211e-09, 2.66069e-05, 2.90262e-10, 8.5324...</td>\n",
       "    </tr>\n",
       "    <tr>\n",
       "      <th>21</th>\n",
       "      <td>lenet</td>\n",
       "      <td>26</td>\n",
       "      <td>4</td>\n",
       "      <td>0.438153</td>\n",
       "      <td>[0.00128044, 0.00127233, 0.0336221, 0.215316, ...</td>\n",
       "    </tr>\n",
       "    <tr>\n",
       "      <th>22</th>\n",
       "      <td>lenet</td>\n",
       "      <td>27</td>\n",
       "      <td>0</td>\n",
       "      <td>0.910106</td>\n",
       "      <td>[0.910106, 0.000825812, 0.0477287, 0.0023429, ...</td>\n",
       "    </tr>\n",
       "    <tr>\n",
       "      <th>23</th>\n",
       "      <td>lenet</td>\n",
       "      <td>28</td>\n",
       "      <td>9</td>\n",
       "      <td>0.899480</td>\n",
       "      <td>[0.000840111, 0.0817377, 0.000161241, 0.004200...</td>\n",
       "    </tr>\n",
       "    <tr>\n",
       "      <th>24</th>\n",
       "      <td>lenet</td>\n",
       "      <td>29</td>\n",
       "      <td>6</td>\n",
       "      <td>0.992800</td>\n",
       "      <td>[2.09861e-07, 2.80326e-07, 0.0039897, 0.002034...</td>\n",
       "    </tr>\n",
       "    <tr>\n",
       "      <th>25</th>\n",
       "      <td>lenet</td>\n",
       "      <td>30</td>\n",
       "      <td>6</td>\n",
       "      <td>0.976534</td>\n",
       "      <td>[5.17116e-05, 1.1314e-05, 0.0163438, 0.0049032...</td>\n",
       "    </tr>\n",
       "    <tr>\n",
       "      <th>26</th>\n",
       "      <td>lenet</td>\n",
       "      <td>31</td>\n",
       "      <td>5</td>\n",
       "      <td>0.771466</td>\n",
       "      <td>[7.80308e-05, 3.57034e-05, 0.21531, 0.00747105...</td>\n",
       "    </tr>\n",
       "    <tr>\n",
       "      <th>27</th>\n",
       "      <td>lenet</td>\n",
       "      <td>34</td>\n",
       "      <td>9</td>\n",
       "      <td>0.999955</td>\n",
       "      <td>[2.51036e-05, 1.26701e-05, 2.93022e-07, 4.5425...</td>\n",
       "    </tr>\n",
       "    <tr>\n",
       "      <th>28</th>\n",
       "      <td>lenet</td>\n",
       "      <td>36</td>\n",
       "      <td>4</td>\n",
       "      <td>0.534231</td>\n",
       "      <td>[7.48209e-06, 1.68597e-06, 0.000160524, 0.0058...</td>\n",
       "    </tr>\n",
       "    <tr>\n",
       "      <th>29</th>\n",
       "      <td>lenet</td>\n",
       "      <td>37</td>\n",
       "      <td>1</td>\n",
       "      <td>0.493566</td>\n",
       "      <td>[0.364322, 0.493566, 0.00023384, 0.000233237, ...</td>\n",
       "    </tr>\n",
       "    <tr>\n",
       "      <th>...</th>\n",
       "      <td>...</td>\n",
       "      <td>...</td>\n",
       "      <td>...</td>\n",
       "      <td>...</td>\n",
       "      <td>...</td>\n",
       "    </tr>\n",
       "    <tr>\n",
       "      <th>7458</th>\n",
       "      <td>lenet</td>\n",
       "      <td>9958</td>\n",
       "      <td>9</td>\n",
       "      <td>0.644484</td>\n",
       "      <td>[2.00886e-05, 0.355322, 1.08158e-05, 4.87938e-...</td>\n",
       "    </tr>\n",
       "    <tr>\n",
       "      <th>7459</th>\n",
       "      <td>lenet</td>\n",
       "      <td>9959</td>\n",
       "      <td>2</td>\n",
       "      <td>0.982589</td>\n",
       "      <td>[0.00393905, 5.51858e-05, 0.982589, 0.00429974...</td>\n",
       "    </tr>\n",
       "    <tr>\n",
       "      <th>7460</th>\n",
       "      <td>lenet</td>\n",
       "      <td>9961</td>\n",
       "      <td>3</td>\n",
       "      <td>0.784482</td>\n",
       "      <td>[0.0811407, 0.000628201, 0.0164098, 0.784482, ...</td>\n",
       "    </tr>\n",
       "    <tr>\n",
       "      <th>7461</th>\n",
       "      <td>lenet</td>\n",
       "      <td>9962</td>\n",
       "      <td>4</td>\n",
       "      <td>0.752563</td>\n",
       "      <td>[0.000339881, 5.83311e-06, 0.0237665, 0.007493...</td>\n",
       "    </tr>\n",
       "    <tr>\n",
       "      <th>7462</th>\n",
       "      <td>lenet</td>\n",
       "      <td>9963</td>\n",
       "      <td>8</td>\n",
       "      <td>0.615255</td>\n",
       "      <td>[0.347599, 0.000737264, 0.0175231, 0.00121984,...</td>\n",
       "    </tr>\n",
       "    <tr>\n",
       "      <th>7463</th>\n",
       "      <td>lenet</td>\n",
       "      <td>9964</td>\n",
       "      <td>2</td>\n",
       "      <td>0.809038</td>\n",
       "      <td>[0.018904, 0.0103901, 0.809038, 0.0553718, 0.0...</td>\n",
       "    </tr>\n",
       "    <tr>\n",
       "      <th>7464</th>\n",
       "      <td>lenet</td>\n",
       "      <td>9966</td>\n",
       "      <td>6</td>\n",
       "      <td>0.998870</td>\n",
       "      <td>[5.70063e-07, 6.32701e-08, 0.000469588, 0.0001...</td>\n",
       "    </tr>\n",
       "    <tr>\n",
       "      <th>7465</th>\n",
       "      <td>lenet</td>\n",
       "      <td>9968</td>\n",
       "      <td>3</td>\n",
       "      <td>0.298231</td>\n",
       "      <td>[0.0136491, 0.015614, 0.0697152, 0.298231, 0.0...</td>\n",
       "    </tr>\n",
       "    <tr>\n",
       "      <th>7466</th>\n",
       "      <td>lenet</td>\n",
       "      <td>9970</td>\n",
       "      <td>2</td>\n",
       "      <td>0.998973</td>\n",
       "      <td>[0.000244484, 5.24141e-08, 0.998973, 0.0002266...</td>\n",
       "    </tr>\n",
       "    <tr>\n",
       "      <th>7467</th>\n",
       "      <td>lenet</td>\n",
       "      <td>9971</td>\n",
       "      <td>9</td>\n",
       "      <td>0.999768</td>\n",
       "      <td>[9.03696e-06, 0.000169637, 5.77245e-06, 3.9085...</td>\n",
       "    </tr>\n",
       "    <tr>\n",
       "      <th>7468</th>\n",
       "      <td>lenet</td>\n",
       "      <td>9973</td>\n",
       "      <td>0</td>\n",
       "      <td>0.998942</td>\n",
       "      <td>[0.998942, 2.47516e-06, 0.000248534, 4.28341e-...</td>\n",
       "    </tr>\n",
       "    <tr>\n",
       "      <th>7469</th>\n",
       "      <td>lenet</td>\n",
       "      <td>9974</td>\n",
       "      <td>1</td>\n",
       "      <td>0.994475</td>\n",
       "      <td>[8.76601e-08, 0.994475, 2.89591e-07, 4.33023e-...</td>\n",
       "    </tr>\n",
       "    <tr>\n",
       "      <th>7470</th>\n",
       "      <td>lenet</td>\n",
       "      <td>9975</td>\n",
       "      <td>7</td>\n",
       "      <td>0.999170</td>\n",
       "      <td>[2.98295e-07, 2.80818e-09, 3.08493e-07, 4.8796...</td>\n",
       "    </tr>\n",
       "    <tr>\n",
       "      <th>7471</th>\n",
       "      <td>lenet</td>\n",
       "      <td>9976</td>\n",
       "      <td>5</td>\n",
       "      <td>0.591687</td>\n",
       "      <td>[0.000471173, 0.000621106, 0.148294, 0.0977864...</td>\n",
       "    </tr>\n",
       "    <tr>\n",
       "      <th>7472</th>\n",
       "      <td>lenet</td>\n",
       "      <td>9977</td>\n",
       "      <td>5</td>\n",
       "      <td>0.673567</td>\n",
       "      <td>[2.90202e-05, 4.13137e-06, 0.0225072, 0.113215...</td>\n",
       "    </tr>\n",
       "    <tr>\n",
       "      <th>7473</th>\n",
       "      <td>lenet</td>\n",
       "      <td>9978</td>\n",
       "      <td>7</td>\n",
       "      <td>0.834052</td>\n",
       "      <td>[0.000923835, 0.000141653, 0.00559159, 0.02335...</td>\n",
       "    </tr>\n",
       "    <tr>\n",
       "      <th>7474</th>\n",
       "      <td>lenet</td>\n",
       "      <td>9979</td>\n",
       "      <td>3</td>\n",
       "      <td>0.610951</td>\n",
       "      <td>[0.000133758, 9.06794e-06, 0.00846764, 0.61095...</td>\n",
       "    </tr>\n",
       "    <tr>\n",
       "      <th>7475</th>\n",
       "      <td>lenet</td>\n",
       "      <td>9980</td>\n",
       "      <td>0</td>\n",
       "      <td>0.999281</td>\n",
       "      <td>[0.999281, 6.64781e-08, 0.000714329, 1.14701e-...</td>\n",
       "    </tr>\n",
       "    <tr>\n",
       "      <th>7476</th>\n",
       "      <td>lenet</td>\n",
       "      <td>9984</td>\n",
       "      <td>7</td>\n",
       "      <td>0.855892</td>\n",
       "      <td>[8.88562e-05, 1.12528e-05, 0.00350534, 0.01012...</td>\n",
       "    </tr>\n",
       "    <tr>\n",
       "      <th>7477</th>\n",
       "      <td>lenet</td>\n",
       "      <td>9986</td>\n",
       "      <td>8</td>\n",
       "      <td>0.846782</td>\n",
       "      <td>[0.15227, 0.000185237, 0.000112466, 1.13144e-0...</td>\n",
       "    </tr>\n",
       "    <tr>\n",
       "      <th>7478</th>\n",
       "      <td>lenet</td>\n",
       "      <td>9987</td>\n",
       "      <td>0</td>\n",
       "      <td>0.891163</td>\n",
       "      <td>[0.891163, 0.00129203, 0.00596505, 0.000619181...</td>\n",
       "    </tr>\n",
       "    <tr>\n",
       "      <th>7479</th>\n",
       "      <td>lenet</td>\n",
       "      <td>9988</td>\n",
       "      <td>8</td>\n",
       "      <td>0.996705</td>\n",
       "      <td>[0.00265491, 0.000240414, 1.36278e-05, 1.16484...</td>\n",
       "    </tr>\n",
       "    <tr>\n",
       "      <th>7480</th>\n",
       "      <td>lenet</td>\n",
       "      <td>9990</td>\n",
       "      <td>7</td>\n",
       "      <td>0.987476</td>\n",
       "      <td>[0.000194581, 1.65641e-06, 0.000474177, 0.0054...</td>\n",
       "    </tr>\n",
       "    <tr>\n",
       "      <th>7481</th>\n",
       "      <td>lenet</td>\n",
       "      <td>9991</td>\n",
       "      <td>0</td>\n",
       "      <td>0.996009</td>\n",
       "      <td>[0.996009, 0.000203123, 2.41758e-07, 6.37345e-...</td>\n",
       "    </tr>\n",
       "    <tr>\n",
       "      <th>7482</th>\n",
       "      <td>lenet</td>\n",
       "      <td>9992</td>\n",
       "      <td>3</td>\n",
       "      <td>0.478766</td>\n",
       "      <td>[0.000101923, 0.000111816, 0.00666865, 0.47876...</td>\n",
       "    </tr>\n",
       "    <tr>\n",
       "      <th>7483</th>\n",
       "      <td>lenet</td>\n",
       "      <td>9993</td>\n",
       "      <td>5</td>\n",
       "      <td>0.428421</td>\n",
       "      <td>[0.00752478, 0.00224399, 0.000910382, 0.252429...</td>\n",
       "    </tr>\n",
       "    <tr>\n",
       "      <th>7484</th>\n",
       "      <td>lenet</td>\n",
       "      <td>9995</td>\n",
       "      <td>8</td>\n",
       "      <td>0.935165</td>\n",
       "      <td>[0.0115247, 0.000260794, 0.00430005, 0.0372727...</td>\n",
       "    </tr>\n",
       "    <tr>\n",
       "      <th>7485</th>\n",
       "      <td>lenet</td>\n",
       "      <td>9997</td>\n",
       "      <td>5</td>\n",
       "      <td>0.998944</td>\n",
       "      <td>[7.58896e-08, 1.94812e-07, 0.000262456, 0.0005...</td>\n",
       "    </tr>\n",
       "    <tr>\n",
       "      <th>7486</th>\n",
       "      <td>lenet</td>\n",
       "      <td>9998</td>\n",
       "      <td>1</td>\n",
       "      <td>0.872128</td>\n",
       "      <td>[0.00540458, 0.872128, 0.0466491, 0.000745763,...</td>\n",
       "    </tr>\n",
       "    <tr>\n",
       "      <th>7487</th>\n",
       "      <td>lenet</td>\n",
       "      <td>9999</td>\n",
       "      <td>7</td>\n",
       "      <td>0.998867</td>\n",
       "      <td>[9.80107e-10, 3.10088e-10, 3.25853e-09, 2.9057...</td>\n",
       "    </tr>\n",
       "  </tbody>\n",
       "</table>\n",
       "<p>7488 rows × 5 columns</p>\n",
       "</div>"
      ],
      "text/plain": [
       "       name   img  label  confidence  \\\n",
       "0     lenet     0      3    0.845718   \n",
       "1     lenet     1      8    0.897515   \n",
       "2     lenet     2      8    0.883613   \n",
       "3     lenet     3      0    0.869531   \n",
       "4     lenet     4      6    0.995537   \n",
       "5     lenet     5      6    0.996236   \n",
       "6     lenet     6      1    0.993709   \n",
       "7     lenet     7      6    0.904880   \n",
       "8     lenet     8      3    0.461697   \n",
       "9     lenet     9      1    0.770601   \n",
       "10    lenet    11      9    0.999691   \n",
       "11    lenet    13      7    0.999760   \n",
       "12    lenet    14      9    0.891204   \n",
       "13    lenet    16      5    0.940507   \n",
       "14    lenet    17      7    0.441056   \n",
       "15    lenet    18      8    0.999845   \n",
       "16    lenet    19      6    0.999860   \n",
       "17    lenet    20      7    0.868636   \n",
       "18    lenet    21      0    0.817533   \n",
       "19    lenet    22      4    0.933491   \n",
       "20    lenet    23      9    0.999973   \n",
       "21    lenet    26      4    0.438153   \n",
       "22    lenet    27      0    0.910106   \n",
       "23    lenet    28      9    0.899480   \n",
       "24    lenet    29      6    0.992800   \n",
       "25    lenet    30      6    0.976534   \n",
       "26    lenet    31      5    0.771466   \n",
       "27    lenet    34      9    0.999955   \n",
       "28    lenet    36      4    0.534231   \n",
       "29    lenet    37      1    0.493566   \n",
       "...     ...   ...    ...         ...   \n",
       "7458  lenet  9958      9    0.644484   \n",
       "7459  lenet  9959      2    0.982589   \n",
       "7460  lenet  9961      3    0.784482   \n",
       "7461  lenet  9962      4    0.752563   \n",
       "7462  lenet  9963      8    0.615255   \n",
       "7463  lenet  9964      2    0.809038   \n",
       "7464  lenet  9966      6    0.998870   \n",
       "7465  lenet  9968      3    0.298231   \n",
       "7466  lenet  9970      2    0.998973   \n",
       "7467  lenet  9971      9    0.999768   \n",
       "7468  lenet  9973      0    0.998942   \n",
       "7469  lenet  9974      1    0.994475   \n",
       "7470  lenet  9975      7    0.999170   \n",
       "7471  lenet  9976      5    0.591687   \n",
       "7472  lenet  9977      5    0.673567   \n",
       "7473  lenet  9978      7    0.834052   \n",
       "7474  lenet  9979      3    0.610951   \n",
       "7475  lenet  9980      0    0.999281   \n",
       "7476  lenet  9984      7    0.855892   \n",
       "7477  lenet  9986      8    0.846782   \n",
       "7478  lenet  9987      0    0.891163   \n",
       "7479  lenet  9988      8    0.996705   \n",
       "7480  lenet  9990      7    0.987476   \n",
       "7481  lenet  9991      0    0.996009   \n",
       "7482  lenet  9992      3    0.478766   \n",
       "7483  lenet  9993      5    0.428421   \n",
       "7484  lenet  9995      8    0.935165   \n",
       "7485  lenet  9997      5    0.998944   \n",
       "7486  lenet  9998      1    0.872128   \n",
       "7487  lenet  9999      7    0.998867   \n",
       "\n",
       "                                                   pred  \n",
       "0     [0.000266958, 0.00414062, 0.00860135, 0.845718...  \n",
       "1     [0.0306152, 0.0516909, 0.000123243, 2.29141e-0...  \n",
       "2     [0.0104792, 0.0822038, 0.000511889, 0.00142718...  \n",
       "3     [0.869531, 0.00834104, 0.01472, 0.00101565, 0....  \n",
       "4     [1.13859e-08, 1.09058e-08, 0.00216072, 0.00010...  \n",
       "5     [1.1625e-07, 1.74235e-06, 0.000252265, 0.00055...  \n",
       "6     [0.000167215, 0.993709, 0.000257847, 0.0005744...  \n",
       "7     [0.00101984, 0.000326674, 0.0842279, 0.0008128...  \n",
       "8     [0.000203215, 5.78128e-05, 0.07643, 0.461697, ...  \n",
       "9     [0.00639549, 0.770601, 0.000119752, 0.00030886...  \n",
       "10    [1.32363e-06, 0.000304024, 1.59654e-07, 3.0985...  \n",
       "11    [5.04496e-07, 3.42811e-07, 9.53116e-07, 3.4361...  \n",
       "12    [0.000139325, 0.108023, 1.08603e-05, 1.95006e-...  \n",
       "13    [1.74026e-05, 3.76837e-06, 0.00026045, 0.05727...  \n",
       "14    [0.0275708, 0.0172494, 0.0503869, 0.244002, 0....  \n",
       "15    [6.63293e-05, 2.14722e-05, 1.77057e-06, 1.7324...  \n",
       "16    [2.35309e-07, 6.90763e-07, 6.41021e-05, 4.5834...  \n",
       "17    [0.00021338, 0.00299071, 9.82287e-05, 0.001910...  \n",
       "18    [0.817533, 2.90745e-10, 0.182461, 5.52559e-06,...  \n",
       "19    [0.0201955, 3.93445e-05, 0.0284128, 0.00920404...  \n",
       "20    [1.80211e-09, 2.66069e-05, 2.90262e-10, 8.5324...  \n",
       "21    [0.00128044, 0.00127233, 0.0336221, 0.215316, ...  \n",
       "22    [0.910106, 0.000825812, 0.0477287, 0.0023429, ...  \n",
       "23    [0.000840111, 0.0817377, 0.000161241, 0.004200...  \n",
       "24    [2.09861e-07, 2.80326e-07, 0.0039897, 0.002034...  \n",
       "25    [5.17116e-05, 1.1314e-05, 0.0163438, 0.0049032...  \n",
       "26    [7.80308e-05, 3.57034e-05, 0.21531, 0.00747105...  \n",
       "27    [2.51036e-05, 1.26701e-05, 2.93022e-07, 4.5425...  \n",
       "28    [7.48209e-06, 1.68597e-06, 0.000160524, 0.0058...  \n",
       "29    [0.364322, 0.493566, 0.00023384, 0.000233237, ...  \n",
       "...                                                 ...  \n",
       "7458  [2.00886e-05, 0.355322, 1.08158e-05, 4.87938e-...  \n",
       "7459  [0.00393905, 5.51858e-05, 0.982589, 0.00429974...  \n",
       "7460  [0.0811407, 0.000628201, 0.0164098, 0.784482, ...  \n",
       "7461  [0.000339881, 5.83311e-06, 0.0237665, 0.007493...  \n",
       "7462  [0.347599, 0.000737264, 0.0175231, 0.00121984,...  \n",
       "7463  [0.018904, 0.0103901, 0.809038, 0.0553718, 0.0...  \n",
       "7464  [5.70063e-07, 6.32701e-08, 0.000469588, 0.0001...  \n",
       "7465  [0.0136491, 0.015614, 0.0697152, 0.298231, 0.0...  \n",
       "7466  [0.000244484, 5.24141e-08, 0.998973, 0.0002266...  \n",
       "7467  [9.03696e-06, 0.000169637, 5.77245e-06, 3.9085...  \n",
       "7468  [0.998942, 2.47516e-06, 0.000248534, 4.28341e-...  \n",
       "7469  [8.76601e-08, 0.994475, 2.89591e-07, 4.33023e-...  \n",
       "7470  [2.98295e-07, 2.80818e-09, 3.08493e-07, 4.8796...  \n",
       "7471  [0.000471173, 0.000621106, 0.148294, 0.0977864...  \n",
       "7472  [2.90202e-05, 4.13137e-06, 0.0225072, 0.113215...  \n",
       "7473  [0.000923835, 0.000141653, 0.00559159, 0.02335...  \n",
       "7474  [0.000133758, 9.06794e-06, 0.00846764, 0.61095...  \n",
       "7475  [0.999281, 6.64781e-08, 0.000714329, 1.14701e-...  \n",
       "7476  [8.88562e-05, 1.12528e-05, 0.00350534, 0.01012...  \n",
       "7477  [0.15227, 0.000185237, 0.000112466, 1.13144e-0...  \n",
       "7478  [0.891163, 0.00129203, 0.00596505, 0.000619181...  \n",
       "7479  [0.00265491, 0.000240414, 1.36278e-05, 1.16484...  \n",
       "7480  [0.000194581, 1.65641e-06, 0.000474177, 0.0054...  \n",
       "7481  [0.996009, 0.000203123, 2.41758e-07, 6.37345e-...  \n",
       "7482  [0.000101923, 0.000111816, 0.00666865, 0.47876...  \n",
       "7483  [0.00752478, 0.00224399, 0.000910382, 0.252429...  \n",
       "7484  [0.0115247, 0.000260794, 0.00430005, 0.0372727...  \n",
       "7485  [7.58896e-08, 1.94812e-07, 0.000262456, 0.0005...  \n",
       "7486  [0.00540458, 0.872128, 0.0466491, 0.000745763,...  \n",
       "7487  [9.80107e-10, 3.10088e-10, 3.25853e-09, 2.9057...  \n",
       "\n",
       "[7488 rows x 5 columns]"
      ]
     },
     "execution_count": 24,
     "metadata": {},
     "output_type": "execute_result"
    }
   ],
   "source": [
    "# Lenet\n",
    "#we first select the images that have been correctly classified. \n",
    "correct_imgs_lenet = helper.evaluate_models([lenet], x_test, y_test)\n",
    "correct_imgs_lenet = pd.DataFrame(correct_imgs_lenet, columns=['name', 'img', 'label', 'confidence', 'pred'])\n",
    "\n",
    "#then we select the images that have been wrongly classified.\n",
    "wrong_imgs_lenet = helper.wrongimg([lenet], x_test, y_test)\n",
    "\n",
    "# correct_imgs_lenet\n",
    "# wrong_img_lenet"
   ]
  },
  {
   "cell_type": "code",
   "execution_count": 23,
   "metadata": {},
   "outputs": [
    {
     "name": "stdout",
     "output_type": "stream",
     "text": [
      "Evaluating resnet\n"
     ]
    },
    {
     "ename": "KeyboardInterrupt",
     "evalue": "",
     "output_type": "error",
     "traceback": [
      "\u001b[0;31m---------------------------------------------------------------------------\u001b[0m",
      "\u001b[0;31mKeyboardInterrupt\u001b[0m                         Traceback (most recent call last)",
      "\u001b[0;32m<ipython-input-23-6a711f4aa83b>\u001b[0m in \u001b[0;36m<module>\u001b[0;34m()\u001b[0m\n\u001b[1;32m      1\u001b[0m \u001b[0;31m#Resnet\u001b[0m\u001b[0;34m\u001b[0m\u001b[0;34m\u001b[0m\u001b[0m\n\u001b[1;32m      2\u001b[0m \u001b[0;31m#we first select the images that have been correctly classified.\u001b[0m\u001b[0;34m\u001b[0m\u001b[0;34m\u001b[0m\u001b[0m\n\u001b[0;32m----> 3\u001b[0;31m \u001b[0mcorrect_imgs_resnet\u001b[0m \u001b[0;34m=\u001b[0m \u001b[0mhelper\u001b[0m\u001b[0;34m.\u001b[0m\u001b[0mevaluate_models\u001b[0m\u001b[0;34m(\u001b[0m\u001b[0;34m[\u001b[0m\u001b[0mresnet\u001b[0m\u001b[0;34m]\u001b[0m\u001b[0;34m,\u001b[0m \u001b[0mx_test\u001b[0m\u001b[0;34m,\u001b[0m \u001b[0my_test\u001b[0m\u001b[0;34m)\u001b[0m\u001b[0;34m\u001b[0m\u001b[0m\n\u001b[0m\u001b[1;32m      4\u001b[0m \u001b[0mcorrect_imgs_resnet\u001b[0m \u001b[0;34m=\u001b[0m \u001b[0mpd\u001b[0m\u001b[0;34m.\u001b[0m\u001b[0mDataFrame\u001b[0m\u001b[0;34m(\u001b[0m\u001b[0mcorrect_imgs_resnet\u001b[0m\u001b[0;34m,\u001b[0m \u001b[0mcolumns\u001b[0m\u001b[0;34m=\u001b[0m\u001b[0;34m[\u001b[0m\u001b[0;34m'name'\u001b[0m\u001b[0;34m,\u001b[0m \u001b[0;34m'img'\u001b[0m\u001b[0;34m,\u001b[0m \u001b[0;34m'label'\u001b[0m\u001b[0;34m,\u001b[0m \u001b[0;34m'confidence'\u001b[0m\u001b[0;34m,\u001b[0m \u001b[0;34m'pred'\u001b[0m\u001b[0;34m]\u001b[0m\u001b[0;34m)\u001b[0m\u001b[0;34m\u001b[0m\u001b[0m\n\u001b[1;32m      5\u001b[0m \u001b[0;34m\u001b[0m\u001b[0m\n",
      "\u001b[0;32m~/Downloads/one-pixel-attack-keras-master-2/helper.py\u001b[0m in \u001b[0;36mevaluate_models\u001b[0;34m(models, x_test, y_test)\u001b[0m\n\u001b[1;32m     66\u001b[0m         \u001b[0mprint\u001b[0m\u001b[0;34m(\u001b[0m\u001b[0;34m'Evaluating'\u001b[0m\u001b[0;34m,\u001b[0m \u001b[0mmodel\u001b[0m\u001b[0;34m.\u001b[0m\u001b[0mname\u001b[0m\u001b[0;34m)\u001b[0m\u001b[0;34m\u001b[0m\u001b[0m\n\u001b[1;32m     67\u001b[0m \u001b[0;34m\u001b[0m\u001b[0m\n\u001b[0;32m---> 68\u001b[0;31m         \u001b[0mpredictions\u001b[0m \u001b[0;34m=\u001b[0m \u001b[0mmodel\u001b[0m\u001b[0;34m.\u001b[0m\u001b[0mpredict\u001b[0m\u001b[0;34m(\u001b[0m\u001b[0mx_test\u001b[0m\u001b[0;34m)\u001b[0m\u001b[0;34m\u001b[0m\u001b[0m\n\u001b[0m\u001b[1;32m     69\u001b[0m \u001b[0;34m\u001b[0m\u001b[0m\n\u001b[1;32m     70\u001b[0m         correct = [[model.name,i,label,np.max(pred),pred]\n",
      "\u001b[0;32m~/Downloads/one-pixel-attack-keras-master-2/networks/resnet.py\u001b[0m in \u001b[0;36mpredict\u001b[0;34m(self, img)\u001b[0m\n\u001b[1;32m    176\u001b[0m     \u001b[0;32mdef\u001b[0m \u001b[0mpredict\u001b[0m\u001b[0;34m(\u001b[0m\u001b[0mself\u001b[0m\u001b[0;34m,\u001b[0m \u001b[0mimg\u001b[0m\u001b[0;34m)\u001b[0m\u001b[0;34m:\u001b[0m\u001b[0;34m\u001b[0m\u001b[0m\n\u001b[1;32m    177\u001b[0m         \u001b[0mprocessed\u001b[0m \u001b[0;34m=\u001b[0m \u001b[0mself\u001b[0m\u001b[0;34m.\u001b[0m\u001b[0mcolor_process\u001b[0m\u001b[0;34m(\u001b[0m\u001b[0mimg\u001b[0m\u001b[0;34m)\u001b[0m\u001b[0;34m\u001b[0m\u001b[0m\n\u001b[0;32m--> 178\u001b[0;31m         \u001b[0;32mreturn\u001b[0m \u001b[0mself\u001b[0m\u001b[0;34m.\u001b[0m\u001b[0m_model\u001b[0m\u001b[0;34m.\u001b[0m\u001b[0mpredict\u001b[0m\u001b[0;34m(\u001b[0m\u001b[0mprocessed\u001b[0m\u001b[0;34m,\u001b[0m \u001b[0mbatch_size\u001b[0m\u001b[0;34m=\u001b[0m\u001b[0mself\u001b[0m\u001b[0;34m.\u001b[0m\u001b[0mbatch_size\u001b[0m\u001b[0;34m)\u001b[0m\u001b[0;34m\u001b[0m\u001b[0m\n\u001b[0m\u001b[1;32m    179\u001b[0m \u001b[0;34m\u001b[0m\u001b[0m\n\u001b[1;32m    180\u001b[0m     \u001b[0;32mdef\u001b[0m \u001b[0mpredict_one\u001b[0m\u001b[0;34m(\u001b[0m\u001b[0mself\u001b[0m\u001b[0;34m,\u001b[0m \u001b[0mimg\u001b[0m\u001b[0;34m)\u001b[0m\u001b[0;34m:\u001b[0m\u001b[0;34m\u001b[0m\u001b[0m\n",
      "\u001b[0;32m~/miniconda3/envs/nnseries/lib/python3.6/site-packages/keras/engine/training.py\u001b[0m in \u001b[0;36mpredict\u001b[0;34m(self, x, batch_size, verbose, steps)\u001b[0m\n\u001b[1;32m   1840\u001b[0m         \u001b[0mf\u001b[0m \u001b[0;34m=\u001b[0m \u001b[0mself\u001b[0m\u001b[0;34m.\u001b[0m\u001b[0mpredict_function\u001b[0m\u001b[0;34m\u001b[0m\u001b[0m\n\u001b[1;32m   1841\u001b[0m         return self._predict_loop(f, ins, batch_size=batch_size,\n\u001b[0;32m-> 1842\u001b[0;31m                                   verbose=verbose, steps=steps)\n\u001b[0m\u001b[1;32m   1843\u001b[0m \u001b[0;34m\u001b[0m\u001b[0m\n\u001b[1;32m   1844\u001b[0m     def train_on_batch(self, x, y,\n",
      "\u001b[0;32m~/miniconda3/envs/nnseries/lib/python3.6/site-packages/keras/engine/training.py\u001b[0m in \u001b[0;36m_predict_loop\u001b[0;34m(self, f, ins, batch_size, verbose, steps)\u001b[0m\n\u001b[1;32m   1335\u001b[0m                     \u001b[0mins_batch\u001b[0m\u001b[0;34m[\u001b[0m\u001b[0mi\u001b[0m\u001b[0;34m]\u001b[0m \u001b[0;34m=\u001b[0m \u001b[0mins_batch\u001b[0m\u001b[0;34m[\u001b[0m\u001b[0mi\u001b[0m\u001b[0;34m]\u001b[0m\u001b[0;34m.\u001b[0m\u001b[0mtoarray\u001b[0m\u001b[0;34m(\u001b[0m\u001b[0;34m)\u001b[0m\u001b[0;34m\u001b[0m\u001b[0m\n\u001b[1;32m   1336\u001b[0m \u001b[0;34m\u001b[0m\u001b[0m\n\u001b[0;32m-> 1337\u001b[0;31m                 \u001b[0mbatch_outs\u001b[0m \u001b[0;34m=\u001b[0m \u001b[0mf\u001b[0m\u001b[0;34m(\u001b[0m\u001b[0mins_batch\u001b[0m\u001b[0;34m)\u001b[0m\u001b[0;34m\u001b[0m\u001b[0m\n\u001b[0m\u001b[1;32m   1338\u001b[0m                 \u001b[0;32mif\u001b[0m \u001b[0;32mnot\u001b[0m \u001b[0misinstance\u001b[0m\u001b[0;34m(\u001b[0m\u001b[0mbatch_outs\u001b[0m\u001b[0;34m,\u001b[0m \u001b[0mlist\u001b[0m\u001b[0;34m)\u001b[0m\u001b[0;34m:\u001b[0m\u001b[0;34m\u001b[0m\u001b[0m\n\u001b[1;32m   1339\u001b[0m                     \u001b[0mbatch_outs\u001b[0m \u001b[0;34m=\u001b[0m \u001b[0;34m[\u001b[0m\u001b[0mbatch_outs\u001b[0m\u001b[0;34m]\u001b[0m\u001b[0;34m\u001b[0m\u001b[0m\n",
      "\u001b[0;32m~/miniconda3/envs/nnseries/lib/python3.6/site-packages/keras/backend/tensorflow_backend.py\u001b[0m in \u001b[0;36m__call__\u001b[0;34m(self, inputs)\u001b[0m\n\u001b[1;32m   2473\u001b[0m         \u001b[0msession\u001b[0m \u001b[0;34m=\u001b[0m \u001b[0mget_session\u001b[0m\u001b[0;34m(\u001b[0m\u001b[0;34m)\u001b[0m\u001b[0;34m\u001b[0m\u001b[0m\n\u001b[1;32m   2474\u001b[0m         updated = session.run(fetches=fetches, feed_dict=feed_dict,\n\u001b[0;32m-> 2475\u001b[0;31m                               **self.session_kwargs)\n\u001b[0m\u001b[1;32m   2476\u001b[0m         \u001b[0;32mreturn\u001b[0m \u001b[0mupdated\u001b[0m\u001b[0;34m[\u001b[0m\u001b[0;34m:\u001b[0m\u001b[0mlen\u001b[0m\u001b[0;34m(\u001b[0m\u001b[0mself\u001b[0m\u001b[0;34m.\u001b[0m\u001b[0moutputs\u001b[0m\u001b[0;34m)\u001b[0m\u001b[0;34m]\u001b[0m\u001b[0;34m\u001b[0m\u001b[0m\n\u001b[1;32m   2477\u001b[0m \u001b[0;34m\u001b[0m\u001b[0m\n",
      "\u001b[0;32m~/miniconda3/envs/nnseries/lib/python3.6/site-packages/tensorflow/python/client/session.py\u001b[0m in \u001b[0;36mrun\u001b[0;34m(self, fetches, feed_dict, options, run_metadata)\u001b[0m\n\u001b[1;32m    776\u001b[0m     \u001b[0;32mtry\u001b[0m\u001b[0;34m:\u001b[0m\u001b[0;34m\u001b[0m\u001b[0m\n\u001b[1;32m    777\u001b[0m       result = self._run(None, fetches, feed_dict, options_ptr,\n\u001b[0;32m--> 778\u001b[0;31m                          run_metadata_ptr)\n\u001b[0m\u001b[1;32m    779\u001b[0m       \u001b[0;32mif\u001b[0m \u001b[0mrun_metadata\u001b[0m\u001b[0;34m:\u001b[0m\u001b[0;34m\u001b[0m\u001b[0m\n\u001b[1;32m    780\u001b[0m         \u001b[0mproto_data\u001b[0m \u001b[0;34m=\u001b[0m \u001b[0mtf_session\u001b[0m\u001b[0;34m.\u001b[0m\u001b[0mTF_GetBuffer\u001b[0m\u001b[0;34m(\u001b[0m\u001b[0mrun_metadata_ptr\u001b[0m\u001b[0;34m)\u001b[0m\u001b[0;34m\u001b[0m\u001b[0m\n",
      "\u001b[0;32m~/miniconda3/envs/nnseries/lib/python3.6/site-packages/tensorflow/python/client/session.py\u001b[0m in \u001b[0;36m_run\u001b[0;34m(self, handle, fetches, feed_dict, options, run_metadata)\u001b[0m\n\u001b[1;32m    980\u001b[0m     \u001b[0;32mif\u001b[0m \u001b[0mfinal_fetches\u001b[0m \u001b[0;32mor\u001b[0m \u001b[0mfinal_targets\u001b[0m\u001b[0;34m:\u001b[0m\u001b[0;34m\u001b[0m\u001b[0m\n\u001b[1;32m    981\u001b[0m       results = self._do_run(handle, final_targets, final_fetches,\n\u001b[0;32m--> 982\u001b[0;31m                              feed_dict_string, options, run_metadata)\n\u001b[0m\u001b[1;32m    983\u001b[0m     \u001b[0;32melse\u001b[0m\u001b[0;34m:\u001b[0m\u001b[0;34m\u001b[0m\u001b[0m\n\u001b[1;32m    984\u001b[0m       \u001b[0mresults\u001b[0m \u001b[0;34m=\u001b[0m \u001b[0;34m[\u001b[0m\u001b[0;34m]\u001b[0m\u001b[0;34m\u001b[0m\u001b[0m\n",
      "\u001b[0;32m~/miniconda3/envs/nnseries/lib/python3.6/site-packages/tensorflow/python/client/session.py\u001b[0m in \u001b[0;36m_do_run\u001b[0;34m(self, handle, target_list, fetch_list, feed_dict, options, run_metadata)\u001b[0m\n\u001b[1;32m   1030\u001b[0m     \u001b[0;32mif\u001b[0m \u001b[0mhandle\u001b[0m \u001b[0;32mis\u001b[0m \u001b[0;32mNone\u001b[0m\u001b[0;34m:\u001b[0m\u001b[0;34m\u001b[0m\u001b[0m\n\u001b[1;32m   1031\u001b[0m       return self._do_call(_run_fn, self._session, feed_dict, fetch_list,\n\u001b[0;32m-> 1032\u001b[0;31m                            target_list, options, run_metadata)\n\u001b[0m\u001b[1;32m   1033\u001b[0m     \u001b[0;32melse\u001b[0m\u001b[0;34m:\u001b[0m\u001b[0;34m\u001b[0m\u001b[0m\n\u001b[1;32m   1034\u001b[0m       return self._do_call(_prun_fn, self._session, handle, feed_dict,\n",
      "\u001b[0;32m~/miniconda3/envs/nnseries/lib/python3.6/site-packages/tensorflow/python/client/session.py\u001b[0m in \u001b[0;36m_do_call\u001b[0;34m(self, fn, *args)\u001b[0m\n\u001b[1;32m   1037\u001b[0m   \u001b[0;32mdef\u001b[0m \u001b[0m_do_call\u001b[0m\u001b[0;34m(\u001b[0m\u001b[0mself\u001b[0m\u001b[0;34m,\u001b[0m \u001b[0mfn\u001b[0m\u001b[0;34m,\u001b[0m \u001b[0;34m*\u001b[0m\u001b[0margs\u001b[0m\u001b[0;34m)\u001b[0m\u001b[0;34m:\u001b[0m\u001b[0;34m\u001b[0m\u001b[0m\n\u001b[1;32m   1038\u001b[0m     \u001b[0;32mtry\u001b[0m\u001b[0;34m:\u001b[0m\u001b[0;34m\u001b[0m\u001b[0m\n\u001b[0;32m-> 1039\u001b[0;31m       \u001b[0;32mreturn\u001b[0m \u001b[0mfn\u001b[0m\u001b[0;34m(\u001b[0m\u001b[0;34m*\u001b[0m\u001b[0margs\u001b[0m\u001b[0;34m)\u001b[0m\u001b[0;34m\u001b[0m\u001b[0m\n\u001b[0m\u001b[1;32m   1040\u001b[0m     \u001b[0;32mexcept\u001b[0m \u001b[0merrors\u001b[0m\u001b[0;34m.\u001b[0m\u001b[0mOpError\u001b[0m \u001b[0;32mas\u001b[0m \u001b[0me\u001b[0m\u001b[0;34m:\u001b[0m\u001b[0;34m\u001b[0m\u001b[0m\n\u001b[1;32m   1041\u001b[0m       \u001b[0mmessage\u001b[0m \u001b[0;34m=\u001b[0m \u001b[0mcompat\u001b[0m\u001b[0;34m.\u001b[0m\u001b[0mas_text\u001b[0m\u001b[0;34m(\u001b[0m\u001b[0me\u001b[0m\u001b[0;34m.\u001b[0m\u001b[0mmessage\u001b[0m\u001b[0;34m)\u001b[0m\u001b[0;34m\u001b[0m\u001b[0m\n",
      "\u001b[0;32m~/miniconda3/envs/nnseries/lib/python3.6/site-packages/tensorflow/python/client/session.py\u001b[0m in \u001b[0;36m_run_fn\u001b[0;34m(session, feed_dict, fetch_list, target_list, options, run_metadata)\u001b[0m\n\u001b[1;32m   1019\u001b[0m         return tf_session.TF_Run(session, options,\n\u001b[1;32m   1020\u001b[0m                                  \u001b[0mfeed_dict\u001b[0m\u001b[0;34m,\u001b[0m \u001b[0mfetch_list\u001b[0m\u001b[0;34m,\u001b[0m \u001b[0mtarget_list\u001b[0m\u001b[0;34m,\u001b[0m\u001b[0;34m\u001b[0m\u001b[0m\n\u001b[0;32m-> 1021\u001b[0;31m                                  status, run_metadata)\n\u001b[0m\u001b[1;32m   1022\u001b[0m \u001b[0;34m\u001b[0m\u001b[0m\n\u001b[1;32m   1023\u001b[0m     \u001b[0;32mdef\u001b[0m \u001b[0m_prun_fn\u001b[0m\u001b[0;34m(\u001b[0m\u001b[0msession\u001b[0m\u001b[0;34m,\u001b[0m \u001b[0mhandle\u001b[0m\u001b[0;34m,\u001b[0m \u001b[0mfeed_dict\u001b[0m\u001b[0;34m,\u001b[0m \u001b[0mfetch_list\u001b[0m\u001b[0;34m)\u001b[0m\u001b[0;34m:\u001b[0m\u001b[0;34m\u001b[0m\u001b[0m\n",
      "\u001b[0;31mKeyboardInterrupt\u001b[0m: "
     ]
    }
   ],
   "source": [
    "#Resnet\n",
    "#we first select the images that have been correctly classified. \n",
    "correct_imgs_resnet = helper.evaluate_models([resnet], x_test, y_test)\n",
    "correct_imgs_resnet = pd.DataFrame(correct_imgs_resnet, columns=['name', 'img', 'label', 'confidence', 'pred'])\n",
    "\n",
    "#then we select the images that have been wrongly classified.\n",
    "wrong_imgs_resnet = helper.wrongimg([resnet], x_test, y_test)\n",
    "\n",
    "# correct_imgs_resnet\n",
    "# wrong_img_resnet"
   ]
  },
  {
   "cell_type": "markdown",
   "metadata": {},
   "source": [
    "Here we show the average confidence for the `lenet` network predictions."
   ]
  },
  {
   "cell_type": "code",
   "execution_count": 12,
   "metadata": {},
   "outputs": [
    {
     "data": {
      "text/plain": [
       "0.8575203725033336"
      ]
     },
     "execution_count": 12,
     "metadata": {},
     "output_type": "execute_result"
    }
   ],
   "source": [
    "sum(correct_imgs_lenet.confidence)/7488 # 7488 is the number of correctly classified images\n",
    "avg_confidence_lenet = 0\n",
    "for c in correct_imgs_lenet.confidence: \n",
    "    avg_confidence_lenet += c\n",
    "    \n",
    "avg_confidence_lenet/len(correct_imgs_lenet.confidence)"
   ]
  },
  {
   "cell_type": "markdown",
   "metadata": {},
   "source": [
    "Here we show the average confidence for the `resnet` network predictions."
   ]
  },
  {
   "cell_type": "code",
   "execution_count": 44,
   "metadata": {},
   "outputs": [
    {
     "data": {
      "text/plain": [
       "0.9865690064790538"
      ]
     },
     "execution_count": 44,
     "metadata": {},
     "output_type": "execute_result"
    }
   ],
   "source": [
    "sum(correct_imgs_resnet.confidence)/9231 # 9231 is the number of correctly classified images\n",
    "avg_confidence_resnet = 0\n",
    "for c in correct_imgs_resnet.confidence: \n",
    "    avg_confidence_resnet += c\n",
    "    \n",
    "avg_confidence_resnet/len(correct_imgs_resnet.confidence)"
   ]
  },
  {
   "cell_type": "markdown",
   "metadata": {},
   "source": [
    "For `resnet`, in the following cell we are plotting the average confidence for each 200 predictions in red. We can observe that, as stated above, the confidence is very high (near to 0.99). In blue we are plottin the values of each 10 wrong predictions."
   ]
  },
  {
   "cell_type": "code",
   "execution_count": 45,
   "metadata": {},
   "outputs": [
    {
     "data": {
      "image/png": "[encoded data removed]",
      "text/plain": [
       "<matplotlib.figure.Figure at 0x183ee078d0>"
      ]
     },
     "metadata": {},
     "output_type": "display_data"
    }
   ],
   "source": [
    "plt.axis([0, 9231, 0, 1.1])\n",
    "plt.grid()\n",
    "\n",
    "counter = 1\n",
    "total_confidence = 0\n",
    "color = 'r'\n",
    "\n",
    "for c in correct_imgs_resnet.confidence: \n",
    "    \n",
    "    total_confidence = total_confidence + c\n",
    "    \n",
    "    if counter%200 == 0:\n",
    "        total_confidence = total_confidence / 200\n",
    "        point = [counter, total_confidence]\n",
    "        plt.scatter(point[0], point[1], c=color)\n",
    "        total_confidence = 0\n",
    "        counter = counter +1\n",
    "    else:\n",
    "        counter = counter +1\n",
    "\n",
    "counter = 1\n",
    "total_confidence = 0\n",
    "color = 'b'  \n",
    "        \n",
    "for p in wrong_imgs_resnet: # p is the array containing data about a prediction, as label or confidence\n",
    "    \n",
    "    total_confidence = total_confidence + p[3]\n",
    "    \n",
    "    if counter%10 == 0:\n",
    "        total_confidence = total_confidence / 10\n",
    "        point = [p[1], p[3]] # p[1] is image number, p[3] is the prediction\n",
    "        plt.scatter(point[0], point[1], c=color)\n",
    "        total_confidence = 0\n",
    "        counter = counter +1\n",
    "    else:\n",
    "        counter = counter +1 "
   ]
  },
  {
   "cell_type": "markdown",
   "metadata": {},
   "source": [
    "For `lenet`, in the following cell we are plotting the average confidence for each 200 predictions in blue. We can observe that, as stated above, the confidence is pretty high (near to 0.86). In blue we are plottin the values of each 30 wrong predictions."
   ]
  },
  {
   "cell_type": "code",
   "execution_count": 13,
   "metadata": {},
   "outputs": [
    {
     "data": {
      "image/png": "[encoded data removed]",
      "text/plain": [
       "<matplotlib.figure.Figure at 0x18243c17f0>"
      ]
     },
     "metadata": {},
     "output_type": "display_data"
    }
   ],
   "source": [
    "plt.axis([0, 7488, 0, 1])\n",
    "plt.grid()\n",
    "\n",
    "counter = 1\n",
    "total_confidence = 0\n",
    "color = 'b'\n",
    "\n",
    "for c in correct_imgs_lenet.confidence: \n",
    "    \n",
    "    total_confidence = total_confidence + c\n",
    "    \n",
    "    if counter%200 == 0:\n",
    "        total_confidence = total_confidence / 200\n",
    "        point = [counter, total_confidence]\n",
    "        plt.scatter(point[0], point[1], c=color)\n",
    "        total_confidence = 0\n",
    "        counter = counter +1\n",
    "    else:\n",
    "        counter = counter +1\n",
    "\n",
    "counter = 1\n",
    "total_confidence = 0\n",
    "color = 'r'  \n",
    "        \n",
    "for p in wrong_imgs_lenet:\n",
    "    \n",
    "    total_confidence = total_confidence + p[3]\n",
    "    \n",
    "    if counter%30 == 0:\n",
    "        total_confidence = total_confidence / 30\n",
    "        point = [p[1], p[3]]\n",
    "        plt.scatter(point[0], point[1], c=color)\n",
    "        total_confidence = 0\n",
    "        counter = counter +1\n",
    "    else:\n",
    "        counter = counter +1      "
   ]
  },
  {
   "cell_type": "markdown",
   "metadata": {},
   "source": [
    "### Prediction Function"
   ]
  },
  {
   "cell_type": "markdown",
   "metadata": {},
   "source": [
    "For the black-box attack, all we should care about is the inputs to the model (the images), and the outputs of the model (the prediction probabilities).\n",
    "\n",
    "Define a function that runs several perturbed images on a given model and returns the model's confidence (probability output) in the target class, one confidence value per image. If the target class is the correct class, this will be the function that we want to minimize so that the model will be most confident in another class (which is incorrect). Otherwise, the target is an incorrect class and we will want to maximize it."
   ]
  },
  {
   "cell_type": "markdown",
   "metadata": {},
   "source": [
    "Below we can modify a pixel in an image and see how the confidence of the model changes. In almost all cases, the confidence will not change. However, for very special cases it will change drastically."
   ]
  },
  {
   "cell_type": "code",
   "execution_count": 14,
   "metadata": {
    "scrolled": true
   },
   "outputs": [
    {
     "name": "stdout",
     "output_type": "stream",
     "text": [
      "Confidence in true class bird is 0.0350836\n",
      "Prior confidence was 0.036496\n"
     ]
    },
    {
     "data": {
      "image/png": "[encoded data removed]",
      "text/plain": [
       "<matplotlib.figure.Figure at 0x1830234518>"
      ]
     },
     "metadata": {},
     "output_type": "display_data"
    }
   ],
   "source": [
    "image = 384\n",
    "pixel = np.array([16, 30,  25, 48, 156])\n",
    "model = lenet\n",
    "\n",
    "true_class = y_test[image,0]\n",
    "prior_confidence = model.predict_one(x_test[image])[true_class]  \n",
    "confidence = model.predict_one(perturb_image(pixel, x_test[image]))[true_class]\n",
    "\n",
    "print('Confidence in true class', class_names[true_class], 'is', confidence)\n",
    "print('Prior confidence was', prior_confidence)\n",
    "helper.plot_image(perturb_image(pixel, x_test[image])[0])"
   ]
  },
  {
   "cell_type": "markdown",
   "metadata": {},
   "source": [
    "## The Attack"
   ]
  },
  {
   "cell_type": "markdown",
   "metadata": {},
   "source": [
    "The objective of an untargeted attack is to cause a model to misclassify an image. This means we want to perturb an image as to minimize the confidence probability of the correct classification category and maximize the sum of the probabilities of all other categories."
   ]
  },
  {
   "cell_type": "markdown",
   "metadata": {},
   "source": [
    "### Success Criterion"
   ]
  },
  {
   "cell_type": "markdown",
   "metadata": {},
   "source": [
    "Define a function so that whenever a given perturbation is sufficient to fool a model, it returns `True`. This will be called the success criterion. "
   ]
  },
  {
   "cell_type": "code",
   "execution_count": 15,
   "metadata": {},
   "outputs": [],
   "source": [
    "def attack_success(x, img, target_class, model):\n",
    "    # Perturb the image with the given pixel and get the prediction of the model\n",
    "    perturbed_image = perturb_image(x, x_test[img])\n",
    "\n",
    "    confidence = model.predict(perturbed_image)[0] # returns all the probabilities\n",
    "\n",
    "    predicted_class = np.argmax(confidence) # the index of the class in class_names\n",
    "\n",
    "    # If the prediction is what we want, return True\n",
    "\n",
    "    print('Confidence:', confidence[target_class])\n",
    "    if (predicted_class != target_class):\n",
    "        return True # if true, attack successfull"
   ]
  },
  {
   "cell_type": "markdown",
   "metadata": {},
   "source": [
    "Here we demonstrate the usage of the success criterion function. It's nearly identical to `predict_class()` as before, but also decides the success of the attack. "
   ]
  },
  {
   "cell_type": "code",
   "execution_count": 16,
   "metadata": {},
   "outputs": [
    {
     "name": "stdout",
     "output_type": "stream",
     "text": [
      "Confidence: 0.182876\n",
      "Prior confidence 0.105319\n",
      "Attack success: True\n"
     ]
    },
    {
     "data": {
      "image/png": "[encoded data removed]",
      "text/plain": [
       "<matplotlib.figure.Figure at 0x182d8b5828>"
      ]
     },
     "metadata": {},
     "output_type": "display_data"
    }
   ],
   "source": [
    "image = 10 \n",
    "pixel = np.array([17, 18, 185, 36, 215])\n",
    "model = lenet\n",
    "\n",
    "true_class = y_test[image,0]\n",
    "prior_confidence = model.predict_one(x_test[image])[true_class]\n",
    "success = attack_success(pixel, image, true_class, model)\n",
    "\n",
    "print('Prior confidence', prior_confidence)\n",
    "print('Attack success:', success == True)\n",
    "\n",
    "helper.plot_image(perturb_image(pixel, x_test[image])[0])"
   ]
  },
  {
   "cell_type": "markdown",
   "metadata": {},
   "source": [
    "### Attack Function"
   ]
  },
  {
   "cell_type": "code",
   "execution_count": 17,
   "metadata": {},
   "outputs": [],
   "source": [
    "def attack(img, model, \n",
    "           maxiter=125, popsize=400):\n",
    "    \n",
    "    target_class =  y_test[img,0]\n",
    "    \n",
    "    # Define bounds for a flat vector of x,y,r,g,b values\n",
    "    \n",
    "    bounds = [(0,32), (0,32), (0,256), (0,256), (0,256)]\n",
    "    \n",
    "    # Population multiplier, in terms of the size of the perturbation vector x\n",
    "    popmul = max(1, popsize // len(bounds))\n",
    "    \n",
    "    # Format the predict/callback functions for the differential evolution algorithm\n",
    "    predict_fn = lambda xs: model.predict(\n",
    "        perturb_image(xs, x_test[img]))[0]\n",
    "    callback_fn = lambda x, convergence: attack_success(\n",
    "        x, img, target_class, model)\n",
    "    \n",
    "    # Call Scipy's Implementation of Differential Evolution\n",
    "    attack_result = differential_evolution(\n",
    "        predict_fn, bounds, maxiter=maxiter, popsize=popmul,\n",
    "        recombination=1, atol=-1, callback=callback_fn, polish=False)\n",
    "\n",
    "    # Calculate some useful statistics to return from this function\n",
    "    attack_image = perturb_image(attack_result.x, x_test[img])[0]\n",
    "    prior_probs = model.predict_one(x_test[img])\n",
    "    predicted_probs = model.predict_one(attack_image)\n",
    "    predicted_class = np.argmax(predicted_probs)\n",
    "    actual_class = y_test[img,0]\n",
    "    success = predicted_class != actual_class\n",
    "    cdiff = prior_probs[actual_class] - predicted_probs[actual_class]\n",
    "\n",
    "    # Show the best attempt at a solution (successful or not)\n",
    "    helper.plot_image(attack_image, actual_class, class_names, predicted_class)\n",
    "\n",
    "    return [model.name, img, actual_class, predicted_class, success, cdiff, prior_probs, predicted_probs, attack_result.x]"
   ]
  },
  {
   "cell_type": "markdown",
   "metadata": {},
   "source": [
    "#### Untargeted Attack"
   ]
  },
  {
   "cell_type": "markdown",
   "metadata": {},
   "source": [
    "Let's look at one iteration of the untargeted attack. Here we will demonstrate a successful attack an image of a ship with the `lenet` model. We should see the confidence in the true class drop after several iterations.\n"
   ]
  },
  {
   "cell_type": "code",
   "execution_count": 18,
   "metadata": {
    "scrolled": false
   },
   "outputs": [
    {
     "name": "stdout",
     "output_type": "stream",
     "text": [
      "Confidence: 0.731417\n",
      "Confidence: 0.731417\n",
      "Confidence: 0.731417\n",
      "Confidence: 0.731417\n",
      "Confidence: 0.731417\n",
      "Confidence: 0.731417\n",
      "Confidence: 0.731417\n",
      "Confidence: 0.731417\n",
      "Confidence: 0.731417\n",
      "Confidence: 0.731417\n",
      "Confidence: 0.731417\n",
      "Confidence: 0.731417\n",
      "Confidence: 0.672413\n",
      "Confidence: 0.672413\n",
      "Confidence: 0.672413\n",
      "Confidence: 0.672413\n",
      "Confidence: 0.672413\n",
      "Confidence: 0.672413\n",
      "Confidence: 0.672413\n",
      "Confidence: 0.672413\n",
      "Confidence: 0.672413\n",
      "Confidence: 0.672413\n",
      "Confidence: 0.672413\n",
      "Confidence: 0.672413\n",
      "Confidence: 0.672413\n",
      "Confidence: 0.672413\n",
      "Confidence: 0.672413\n",
      "Confidence: 0.672413\n",
      "Confidence: 0.672413\n",
      "Confidence: 0.672413\n",
      "Confidence: 0.672413\n",
      "Confidence: 0.672413\n",
      "Confidence: 0.641947\n",
      "Confidence: 0.641947\n",
      "Confidence: 0.641947\n",
      "Confidence: 0.641947\n",
      "Confidence: 0.641947\n",
      "Confidence: 0.641947\n",
      "Confidence: 0.641947\n",
      "Confidence: 0.641947\n",
      "Confidence: 0.641947\n",
      "Confidence: 0.641947\n",
      "Confidence: 0.641947\n",
      "Confidence: 0.641947\n",
      "Confidence: 0.641947\n",
      "Confidence: 0.641947\n",
      "Confidence: 0.641947\n",
      "Confidence: 0.641947\n",
      "Confidence: 0.641947\n",
      "Confidence: 0.641947\n",
      "Confidence: 0.641947\n",
      "Confidence: 0.641947\n",
      "Confidence: 0.641947\n",
      "Confidence: 0.641947\n",
      "Confidence: 0.641947\n",
      "Confidence: 0.641947\n",
      "Confidence: 0.641947\n",
      "Confidence: 0.641947\n",
      "Confidence: 0.641947\n",
      "Confidence: 0.641947\n",
      "Confidence: 0.641947\n",
      "Confidence: 0.641947\n",
      "Confidence: 0.641947\n",
      "Confidence: 0.641947\n",
      "Confidence: 0.641947\n",
      "Confidence: 0.641947\n",
      "Confidence: 0.641947\n",
      "Confidence: 0.641947\n",
      "Confidence: 0.641947\n",
      "Confidence: 0.641947\n",
      "Confidence: 0.641947\n",
      "Confidence: 0.641947\n",
      "Confidence: 0.641947\n",
      "Confidence: 0.641947\n",
      "Confidence: 0.641947\n",
      "Confidence: 0.641947\n",
      "Confidence: 0.641947\n",
      "Confidence: 0.641947\n",
      "Confidence: 0.641947\n",
      "Confidence: 0.641947\n",
      "Confidence: 0.641947\n",
      "Confidence: 0.641947\n",
      "Confidence: 0.641947\n",
      "Confidence: 0.641947\n",
      "Confidence: 0.641947\n",
      "Confidence: 0.641947\n",
      "Confidence: 0.641947\n",
      "Confidence: 0.641947\n",
      "Confidence: 0.641947\n",
      "Confidence: 0.641947\n",
      "Confidence: 0.641947\n",
      "Confidence: 0.641947\n",
      "Confidence: 0.641947\n",
      "Confidence: 0.641947\n",
      "Confidence: 0.641947\n",
      "Confidence: 0.641947\n",
      "Confidence: 0.641947\n",
      "Confidence: 0.641947\n",
      "Confidence: 0.641947\n",
      "Confidence: 0.641947\n",
      "Confidence: 0.641947\n",
      "Confidence: 0.641947\n",
      "Confidence: 0.641947\n",
      "Confidence: 0.641947\n",
      "Confidence: 0.641947\n",
      "Confidence: 0.641947\n",
      "Confidence: 0.641947\n",
      "Confidence: 0.641947\n",
      "Confidence: 0.641947\n",
      "Confidence: 0.641947\n",
      "Confidence: 0.641947\n",
      "Confidence: 0.641947\n",
      "Confidence: 0.641947\n",
      "Confidence: 0.641947\n",
      "Confidence: 0.641947\n",
      "Confidence: 0.641947\n",
      "Confidence: 0.641947\n",
      "Confidence: 0.641947\n",
      "Confidence: 0.641947\n",
      "Confidence: 0.641947\n",
      "Confidence: 0.641947\n",
      "Confidence: 0.641947\n",
      "Confidence: 0.641947\n",
      "Confidence: 0.641947\n",
      "Confidence: 0.641947\n"
     ]
    },
    {
     "data": {
      "image/png": "[encoded data removed]",
      "text/plain": [
       "<matplotlib.figure.Figure at 0x183914a7f0>"
      ]
     },
     "metadata": {},
     "output_type": "display_data"
    }
   ],
   "source": [
    "image = 9963\n",
    "model = lenet\n",
    "\n",
    "_ = attack(image, model)"
   ]
  },
  {
   "cell_type": "markdown",
   "metadata": {},
   "source": [
    "Lets look at one iteration of the untargeted attack. Here we will demonstrate a successful attack an image of a frog with the `resnet` model. We should see the confidence in the true class drop after several iterations."
   ]
  },
  {
   "cell_type": "code",
   "execution_count": 78,
   "metadata": {
    "scrolled": false
   },
   "outputs": [
    {
     "name": "stdout",
     "output_type": "stream",
     "text": [
      "Confidence: 1.0\n",
      "Confidence: 1.0\n",
      "Confidence: 1.0\n",
      "Confidence: 1.0\n",
      "Confidence: 1.0\n",
      "Confidence: 1.0\n",
      "Confidence: 1.0\n",
      "Confidence: 1.0\n",
      "Confidence: 1.0\n",
      "Confidence: 1.0\n",
      "Confidence: 1.0\n",
      "Confidence: 1.0\n",
      "Confidence: 1.0\n",
      "Confidence: 1.0\n",
      "Confidence: 1.0\n",
      "Confidence: 1.0\n",
      "Confidence: 1.0\n",
      "Confidence: 1.0\n",
      "Confidence: 1.0\n",
      "Confidence: 1.0\n",
      "Confidence: 1.0\n",
      "Confidence: 1.0\n",
      "Confidence: 1.0\n",
      "Confidence: 1.0\n",
      "Confidence: 1.0\n",
      "Confidence: 1.0\n",
      "Confidence: 1.0\n",
      "Confidence: 1.0\n",
      "Confidence: 1.0\n",
      "Confidence: 1.0\n",
      "Confidence: 1.0\n",
      "Confidence: 1.0\n",
      "Confidence: 1.0\n",
      "Confidence: 1.0\n",
      "Confidence: 1.0\n",
      "Confidence: 1.0\n",
      "Confidence: 1.0\n",
      "Confidence: 1.0\n",
      "Confidence: 1.0\n",
      "Confidence: 1.0\n",
      "Confidence: 1.0\n",
      "Confidence: 1.0\n",
      "Confidence: 1.0\n",
      "Confidence: 1.0\n",
      "Confidence: 1.0\n",
      "Confidence: 1.0\n",
      "Confidence: 1.0\n",
      "Confidence: 1.0\n",
      "Confidence: 1.0\n",
      "Confidence: 1.0\n",
      "Confidence: 1.0\n",
      "Confidence: 1.0\n",
      "Confidence: 1.0\n",
      "Confidence: 1.0\n",
      "Confidence: 1.0\n",
      "Confidence: 1.0\n",
      "Confidence: 1.0\n",
      "Confidence: 1.0\n",
      "Confidence: 1.0\n",
      "Confidence: 1.0\n",
      "Confidence: 1.0\n",
      "Confidence: 1.0\n",
      "Confidence: 1.0\n",
      "Confidence: 1.0\n",
      "Confidence: 1.0\n",
      "Confidence: 1.0\n",
      "Confidence: 1.0\n",
      "Confidence: 1.0\n",
      "Confidence: 1.0\n",
      "Confidence: 1.0\n",
      "Confidence: 1.0\n",
      "Confidence: 1.0\n",
      "Confidence: 1.0\n",
      "Confidence: 1.0\n",
      "Confidence: 1.0\n",
      "Confidence: 1.0\n",
      "Confidence: 1.0\n",
      "Confidence: 1.0\n",
      "Confidence: 1.0\n",
      "Confidence: 1.0\n",
      "Confidence: 1.0\n",
      "Confidence: 1.0\n",
      "Confidence: 1.0\n",
      "Confidence: 1.0\n",
      "Confidence: 1.0\n",
      "Confidence: 1.0\n",
      "Confidence: 1.0\n",
      "Confidence: 1.0\n",
      "Confidence: 1.0\n",
      "Confidence: 1.0\n",
      "Confidence: 1.0\n"
     ]
    },
    {
     "ename": "KeyboardInterrupt",
     "evalue": "",
     "output_type": "error",
     "traceback": [
      "\u001b[0;31m---------------------------------------------------------------------------\u001b[0m",
      "\u001b[0;31mKeyboardInterrupt\u001b[0m                         Traceback (most recent call last)",
      "\u001b[0;32m<ipython-input-78-8d73a071af07>\u001b[0m in \u001b[0;36m<module>\u001b[0;34m()\u001b[0m\n\u001b[1;32m      2\u001b[0m \u001b[0mmodel\u001b[0m \u001b[0;34m=\u001b[0m \u001b[0mresnet\u001b[0m\u001b[0;34m\u001b[0m\u001b[0m\n\u001b[1;32m      3\u001b[0m \u001b[0;34m\u001b[0m\u001b[0m\n\u001b[0;32m----> 4\u001b[0;31m \u001b[0m_\u001b[0m \u001b[0;34m=\u001b[0m \u001b[0mattack\u001b[0m\u001b[0;34m(\u001b[0m\u001b[0mimage\u001b[0m\u001b[0;34m,\u001b[0m \u001b[0mmodel\u001b[0m\u001b[0;34m)\u001b[0m\u001b[0;34m\u001b[0m\u001b[0m\n\u001b[0m",
      "\u001b[0;32m<ipython-input-65-84533e1f1868>\u001b[0m in \u001b[0;36mattack\u001b[0;34m(img, model, maxiter, popsize)\u001b[0m\n\u001b[1;32m     21\u001b[0m     attack_result = differential_evolution(\n\u001b[1;32m     22\u001b[0m         \u001b[0mpredict_fn\u001b[0m\u001b[0;34m,\u001b[0m \u001b[0mbounds\u001b[0m\u001b[0;34m,\u001b[0m \u001b[0mmaxiter\u001b[0m\u001b[0;34m=\u001b[0m\u001b[0mmaxiter\u001b[0m\u001b[0;34m,\u001b[0m \u001b[0mpopsize\u001b[0m\u001b[0;34m=\u001b[0m\u001b[0mpopmul\u001b[0m\u001b[0;34m,\u001b[0m\u001b[0;34m\u001b[0m\u001b[0m\n\u001b[0;32m---> 23\u001b[0;31m         recombination=1, atol=-1, callback=callback_fn, polish=False)\n\u001b[0m\u001b[1;32m     24\u001b[0m \u001b[0;34m\u001b[0m\u001b[0m\n\u001b[1;32m     25\u001b[0m     \u001b[0;31m# Calculate some useful statistics to return from this function\u001b[0m\u001b[0;34m\u001b[0m\u001b[0;34m\u001b[0m\u001b[0m\n",
      "\u001b[0;32m~/Downloads/one-pixel-attack-keras-master-2/differential_evolution.py\u001b[0m in \u001b[0;36mdifferential_evolution\u001b[0;34m(func, bounds, args, strategy, maxiter, popsize, tol, mutation, recombination, seed, callback, disp, polish, init, atol)\u001b[0m\n\u001b[1;32m    212\u001b[0m                                          \u001b[0mcallback\u001b[0m\u001b[0;34m=\u001b[0m\u001b[0mcallback\u001b[0m\u001b[0;34m,\u001b[0m\u001b[0;34m\u001b[0m\u001b[0m\n\u001b[1;32m    213\u001b[0m                                          disp=disp, init=init, atol=atol)\n\u001b[0;32m--> 214\u001b[0;31m     \u001b[0;32mreturn\u001b[0m \u001b[0msolver\u001b[0m\u001b[0;34m.\u001b[0m\u001b[0msolve\u001b[0m\u001b[0;34m(\u001b[0m\u001b[0;34m)\u001b[0m\u001b[0;34m\u001b[0m\u001b[0m\n\u001b[0m\u001b[1;32m    215\u001b[0m \u001b[0;34m\u001b[0m\u001b[0m\n\u001b[1;32m    216\u001b[0m \u001b[0;34m\u001b[0m\u001b[0m\n",
      "\u001b[0;32m~/Downloads/one-pixel-attack-keras-master-2/differential_evolution.py\u001b[0m in \u001b[0;36msolve\u001b[0;34m(self)\u001b[0m\n\u001b[1;32m    567\u001b[0m             \u001b[0;31m# evolve the population by a generation\u001b[0m\u001b[0;34m\u001b[0m\u001b[0;34m\u001b[0m\u001b[0m\n\u001b[1;32m    568\u001b[0m             \u001b[0;32mtry\u001b[0m\u001b[0;34m:\u001b[0m\u001b[0;34m\u001b[0m\u001b[0m\n\u001b[0;32m--> 569\u001b[0;31m                 \u001b[0mnext\u001b[0m\u001b[0;34m(\u001b[0m\u001b[0mself\u001b[0m\u001b[0;34m)\u001b[0m\u001b[0;34m\u001b[0m\u001b[0m\n\u001b[0m\u001b[1;32m    570\u001b[0m             \u001b[0;32mexcept\u001b[0m \u001b[0mStopIteration\u001b[0m\u001b[0;34m:\u001b[0m\u001b[0;34m\u001b[0m\u001b[0m\n\u001b[1;32m    571\u001b[0m                 \u001b[0mwarning_flag\u001b[0m \u001b[0;34m=\u001b[0m \u001b[0;32mTrue\u001b[0m\u001b[0;34m\u001b[0m\u001b[0m\n",
      "\u001b[0;32m~/Downloads/one-pixel-attack-keras-master-2/differential_evolution.py\u001b[0m in \u001b[0;36m__next__\u001b[0;34m(self)\u001b[0m\n\u001b[1;32m    698\u001b[0m         \u001b[0;32mfor\u001b[0m \u001b[0mtrial\u001b[0m \u001b[0;32min\u001b[0m \u001b[0mtrials\u001b[0m\u001b[0;34m:\u001b[0m \u001b[0mself\u001b[0m\u001b[0;34m.\u001b[0m\u001b[0m_ensure_constraint\u001b[0m\u001b[0;34m(\u001b[0m\u001b[0mtrial\u001b[0m\u001b[0;34m)\u001b[0m\u001b[0;34m\u001b[0m\u001b[0m\n\u001b[1;32m    699\u001b[0m         \u001b[0mparameters\u001b[0m \u001b[0;34m=\u001b[0m \u001b[0mnp\u001b[0m\u001b[0;34m.\u001b[0m\u001b[0marray\u001b[0m\u001b[0;34m(\u001b[0m\u001b[0;34m[\u001b[0m\u001b[0mself\u001b[0m\u001b[0;34m.\u001b[0m\u001b[0m_scale_parameters\u001b[0m\u001b[0;34m(\u001b[0m\u001b[0mtrial\u001b[0m\u001b[0;34m)\u001b[0m \u001b[0;32mfor\u001b[0m \u001b[0mtrial\u001b[0m \u001b[0;32min\u001b[0m \u001b[0mtrials\u001b[0m\u001b[0;34m]\u001b[0m\u001b[0;34m)\u001b[0m\u001b[0;34m\u001b[0m\u001b[0m\n\u001b[0;32m--> 700\u001b[0;31m         \u001b[0menergies\u001b[0m \u001b[0;34m=\u001b[0m \u001b[0mself\u001b[0m\u001b[0;34m.\u001b[0m\u001b[0mfunc\u001b[0m\u001b[0;34m(\u001b[0m\u001b[0mparameters\u001b[0m\u001b[0;34m,\u001b[0m \u001b[0;34m*\u001b[0m\u001b[0mself\u001b[0m\u001b[0;34m.\u001b[0m\u001b[0margs\u001b[0m\u001b[0;34m)\u001b[0m\u001b[0;34m\u001b[0m\u001b[0m\n\u001b[0m\u001b[1;32m    701\u001b[0m         \u001b[0mself\u001b[0m\u001b[0;34m.\u001b[0m\u001b[0m_nfev\u001b[0m \u001b[0;34m+=\u001b[0m \u001b[0mitersize\u001b[0m\u001b[0;34m\u001b[0m\u001b[0m\n\u001b[1;32m    702\u001b[0m \u001b[0;34m\u001b[0m\u001b[0m\n",
      "\u001b[0;32m<ipython-input-65-84533e1f1868>\u001b[0m in \u001b[0;36m<lambda>\u001b[0;34m(xs)\u001b[0m\n\u001b[1;32m     14\u001b[0m     \u001b[0;31m# Format the predict/callback functions for the differential evolution algorithm\u001b[0m\u001b[0;34m\u001b[0m\u001b[0;34m\u001b[0m\u001b[0m\n\u001b[1;32m     15\u001b[0m     predict_fn = lambda xs: model.predict(\n\u001b[0;32m---> 16\u001b[0;31m         perturb_image(xs, x_test[img]))[0]\n\u001b[0m\u001b[1;32m     17\u001b[0m     callback_fn = lambda x, convergence: attack_success(\n\u001b[1;32m     18\u001b[0m         x, img, target_class, model)\n",
      "\u001b[0;32m~/Downloads/one-pixel-attack-keras-master-2/networks/resnet.py\u001b[0m in \u001b[0;36mpredict\u001b[0;34m(self, img)\u001b[0m\n\u001b[1;32m    176\u001b[0m     \u001b[0;32mdef\u001b[0m \u001b[0mpredict\u001b[0m\u001b[0;34m(\u001b[0m\u001b[0mself\u001b[0m\u001b[0;34m,\u001b[0m \u001b[0mimg\u001b[0m\u001b[0;34m)\u001b[0m\u001b[0;34m:\u001b[0m\u001b[0;34m\u001b[0m\u001b[0m\n\u001b[1;32m    177\u001b[0m         \u001b[0mprocessed\u001b[0m \u001b[0;34m=\u001b[0m \u001b[0mself\u001b[0m\u001b[0;34m.\u001b[0m\u001b[0mcolor_process\u001b[0m\u001b[0;34m(\u001b[0m\u001b[0mimg\u001b[0m\u001b[0;34m)\u001b[0m\u001b[0;34m\u001b[0m\u001b[0m\n\u001b[0;32m--> 178\u001b[0;31m         \u001b[0;32mreturn\u001b[0m \u001b[0mself\u001b[0m\u001b[0;34m.\u001b[0m\u001b[0m_model\u001b[0m\u001b[0;34m.\u001b[0m\u001b[0mpredict\u001b[0m\u001b[0;34m(\u001b[0m\u001b[0mprocessed\u001b[0m\u001b[0;34m,\u001b[0m \u001b[0mbatch_size\u001b[0m\u001b[0;34m=\u001b[0m\u001b[0mself\u001b[0m\u001b[0;34m.\u001b[0m\u001b[0mbatch_size\u001b[0m\u001b[0;34m)\u001b[0m\u001b[0;34m\u001b[0m\u001b[0m\n\u001b[0m\u001b[1;32m    179\u001b[0m \u001b[0;34m\u001b[0m\u001b[0m\n\u001b[1;32m    180\u001b[0m     \u001b[0;32mdef\u001b[0m \u001b[0mpredict_one\u001b[0m\u001b[0;34m(\u001b[0m\u001b[0mself\u001b[0m\u001b[0;34m,\u001b[0m \u001b[0mimg\u001b[0m\u001b[0;34m)\u001b[0m\u001b[0;34m:\u001b[0m\u001b[0;34m\u001b[0m\u001b[0m\n",
      "\u001b[0;32m~/miniconda3/envs/nnseries/lib/python3.6/site-packages/keras/engine/training.py\u001b[0m in \u001b[0;36mpredict\u001b[0;34m(self, x, batch_size, verbose, steps)\u001b[0m\n\u001b[1;32m   1840\u001b[0m         \u001b[0mf\u001b[0m \u001b[0;34m=\u001b[0m \u001b[0mself\u001b[0m\u001b[0;34m.\u001b[0m\u001b[0mpredict_function\u001b[0m\u001b[0;34m\u001b[0m\u001b[0m\n\u001b[1;32m   1841\u001b[0m         return self._predict_loop(f, ins, batch_size=batch_size,\n\u001b[0;32m-> 1842\u001b[0;31m                                   verbose=verbose, steps=steps)\n\u001b[0m\u001b[1;32m   1843\u001b[0m \u001b[0;34m\u001b[0m\u001b[0m\n\u001b[1;32m   1844\u001b[0m     def train_on_batch(self, x, y,\n",
      "\u001b[0;32m~/miniconda3/envs/nnseries/lib/python3.6/site-packages/keras/engine/training.py\u001b[0m in \u001b[0;36m_predict_loop\u001b[0;34m(self, f, ins, batch_size, verbose, steps)\u001b[0m\n\u001b[1;32m   1335\u001b[0m                     \u001b[0mins_batch\u001b[0m\u001b[0;34m[\u001b[0m\u001b[0mi\u001b[0m\u001b[0;34m]\u001b[0m \u001b[0;34m=\u001b[0m \u001b[0mins_batch\u001b[0m\u001b[0;34m[\u001b[0m\u001b[0mi\u001b[0m\u001b[0;34m]\u001b[0m\u001b[0;34m.\u001b[0m\u001b[0mtoarray\u001b[0m\u001b[0;34m(\u001b[0m\u001b[0;34m)\u001b[0m\u001b[0;34m\u001b[0m\u001b[0m\n\u001b[1;32m   1336\u001b[0m \u001b[0;34m\u001b[0m\u001b[0m\n\u001b[0;32m-> 1337\u001b[0;31m                 \u001b[0mbatch_outs\u001b[0m \u001b[0;34m=\u001b[0m \u001b[0mf\u001b[0m\u001b[0;34m(\u001b[0m\u001b[0mins_batch\u001b[0m\u001b[0;34m)\u001b[0m\u001b[0;34m\u001b[0m\u001b[0m\n\u001b[0m\u001b[1;32m   1338\u001b[0m                 \u001b[0;32mif\u001b[0m \u001b[0;32mnot\u001b[0m \u001b[0misinstance\u001b[0m\u001b[0;34m(\u001b[0m\u001b[0mbatch_outs\u001b[0m\u001b[0;34m,\u001b[0m \u001b[0mlist\u001b[0m\u001b[0;34m)\u001b[0m\u001b[0;34m:\u001b[0m\u001b[0;34m\u001b[0m\u001b[0m\n\u001b[1;32m   1339\u001b[0m                     \u001b[0mbatch_outs\u001b[0m \u001b[0;34m=\u001b[0m \u001b[0;34m[\u001b[0m\u001b[0mbatch_outs\u001b[0m\u001b[0;34m]\u001b[0m\u001b[0;34m\u001b[0m\u001b[0m\n",
      "\u001b[0;32m~/miniconda3/envs/nnseries/lib/python3.6/site-packages/keras/backend/tensorflow_backend.py\u001b[0m in \u001b[0;36m__call__\u001b[0;34m(self, inputs)\u001b[0m\n\u001b[1;32m   2473\u001b[0m         \u001b[0msession\u001b[0m \u001b[0;34m=\u001b[0m \u001b[0mget_session\u001b[0m\u001b[0;34m(\u001b[0m\u001b[0;34m)\u001b[0m\u001b[0;34m\u001b[0m\u001b[0m\n\u001b[1;32m   2474\u001b[0m         updated = session.run(fetches=fetches, feed_dict=feed_dict,\n\u001b[0;32m-> 2475\u001b[0;31m                               **self.session_kwargs)\n\u001b[0m\u001b[1;32m   2476\u001b[0m         \u001b[0;32mreturn\u001b[0m \u001b[0mupdated\u001b[0m\u001b[0;34m[\u001b[0m\u001b[0;34m:\u001b[0m\u001b[0mlen\u001b[0m\u001b[0;34m(\u001b[0m\u001b[0mself\u001b[0m\u001b[0;34m.\u001b[0m\u001b[0moutputs\u001b[0m\u001b[0;34m)\u001b[0m\u001b[0;34m]\u001b[0m\u001b[0;34m\u001b[0m\u001b[0m\n\u001b[1;32m   2477\u001b[0m \u001b[0;34m\u001b[0m\u001b[0m\n",
      "\u001b[0;32m~/miniconda3/envs/nnseries/lib/python3.6/site-packages/tensorflow/python/client/session.py\u001b[0m in \u001b[0;36mrun\u001b[0;34m(self, fetches, feed_dict, options, run_metadata)\u001b[0m\n\u001b[1;32m    776\u001b[0m     \u001b[0;32mtry\u001b[0m\u001b[0;34m:\u001b[0m\u001b[0;34m\u001b[0m\u001b[0m\n\u001b[1;32m    777\u001b[0m       result = self._run(None, fetches, feed_dict, options_ptr,\n\u001b[0;32m--> 778\u001b[0;31m                          run_metadata_ptr)\n\u001b[0m\u001b[1;32m    779\u001b[0m       \u001b[0;32mif\u001b[0m \u001b[0mrun_metadata\u001b[0m\u001b[0;34m:\u001b[0m\u001b[0;34m\u001b[0m\u001b[0m\n\u001b[1;32m    780\u001b[0m         \u001b[0mproto_data\u001b[0m \u001b[0;34m=\u001b[0m \u001b[0mtf_session\u001b[0m\u001b[0;34m.\u001b[0m\u001b[0mTF_GetBuffer\u001b[0m\u001b[0;34m(\u001b[0m\u001b[0mrun_metadata_ptr\u001b[0m\u001b[0;34m)\u001b[0m\u001b[0;34m\u001b[0m\u001b[0m\n",
      "\u001b[0;32m~/miniconda3/envs/nnseries/lib/python3.6/site-packages/tensorflow/python/client/session.py\u001b[0m in \u001b[0;36m_run\u001b[0;34m(self, handle, fetches, feed_dict, options, run_metadata)\u001b[0m\n\u001b[1;32m    980\u001b[0m     \u001b[0;32mif\u001b[0m \u001b[0mfinal_fetches\u001b[0m \u001b[0;32mor\u001b[0m \u001b[0mfinal_targets\u001b[0m\u001b[0;34m:\u001b[0m\u001b[0;34m\u001b[0m\u001b[0m\n\u001b[1;32m    981\u001b[0m       results = self._do_run(handle, final_targets, final_fetches,\n\u001b[0;32m--> 982\u001b[0;31m                              feed_dict_string, options, run_metadata)\n\u001b[0m\u001b[1;32m    983\u001b[0m     \u001b[0;32melse\u001b[0m\u001b[0;34m:\u001b[0m\u001b[0;34m\u001b[0m\u001b[0m\n\u001b[1;32m    984\u001b[0m       \u001b[0mresults\u001b[0m \u001b[0;34m=\u001b[0m \u001b[0;34m[\u001b[0m\u001b[0;34m]\u001b[0m\u001b[0;34m\u001b[0m\u001b[0m\n",
      "\u001b[0;32m~/miniconda3/envs/nnseries/lib/python3.6/site-packages/tensorflow/python/client/session.py\u001b[0m in \u001b[0;36m_do_run\u001b[0;34m(self, handle, target_list, fetch_list, feed_dict, options, run_metadata)\u001b[0m\n\u001b[1;32m   1030\u001b[0m     \u001b[0;32mif\u001b[0m \u001b[0mhandle\u001b[0m \u001b[0;32mis\u001b[0m \u001b[0;32mNone\u001b[0m\u001b[0;34m:\u001b[0m\u001b[0;34m\u001b[0m\u001b[0m\n\u001b[1;32m   1031\u001b[0m       return self._do_call(_run_fn, self._session, feed_dict, fetch_list,\n\u001b[0;32m-> 1032\u001b[0;31m                            target_list, options, run_metadata)\n\u001b[0m\u001b[1;32m   1033\u001b[0m     \u001b[0;32melse\u001b[0m\u001b[0;34m:\u001b[0m\u001b[0;34m\u001b[0m\u001b[0m\n\u001b[1;32m   1034\u001b[0m       return self._do_call(_prun_fn, self._session, handle, feed_dict,\n",
      "\u001b[0;32m~/miniconda3/envs/nnseries/lib/python3.6/site-packages/tensorflow/python/client/session.py\u001b[0m in \u001b[0;36m_do_call\u001b[0;34m(self, fn, *args)\u001b[0m\n\u001b[1;32m   1037\u001b[0m   \u001b[0;32mdef\u001b[0m \u001b[0m_do_call\u001b[0m\u001b[0;34m(\u001b[0m\u001b[0mself\u001b[0m\u001b[0;34m,\u001b[0m \u001b[0mfn\u001b[0m\u001b[0;34m,\u001b[0m \u001b[0;34m*\u001b[0m\u001b[0margs\u001b[0m\u001b[0;34m)\u001b[0m\u001b[0;34m:\u001b[0m\u001b[0;34m\u001b[0m\u001b[0m\n\u001b[1;32m   1038\u001b[0m     \u001b[0;32mtry\u001b[0m\u001b[0;34m:\u001b[0m\u001b[0;34m\u001b[0m\u001b[0m\n\u001b[0;32m-> 1039\u001b[0;31m       \u001b[0;32mreturn\u001b[0m \u001b[0mfn\u001b[0m\u001b[0;34m(\u001b[0m\u001b[0;34m*\u001b[0m\u001b[0margs\u001b[0m\u001b[0;34m)\u001b[0m\u001b[0;34m\u001b[0m\u001b[0m\n\u001b[0m\u001b[1;32m   1040\u001b[0m     \u001b[0;32mexcept\u001b[0m \u001b[0merrors\u001b[0m\u001b[0;34m.\u001b[0m\u001b[0mOpError\u001b[0m \u001b[0;32mas\u001b[0m \u001b[0me\u001b[0m\u001b[0;34m:\u001b[0m\u001b[0;34m\u001b[0m\u001b[0m\n\u001b[1;32m   1041\u001b[0m       \u001b[0mmessage\u001b[0m \u001b[0;34m=\u001b[0m \u001b[0mcompat\u001b[0m\u001b[0;34m.\u001b[0m\u001b[0mas_text\u001b[0m\u001b[0;34m(\u001b[0m\u001b[0me\u001b[0m\u001b[0;34m.\u001b[0m\u001b[0mmessage\u001b[0m\u001b[0;34m)\u001b[0m\u001b[0;34m\u001b[0m\u001b[0m\n",
      "\u001b[0;32m~/miniconda3/envs/nnseries/lib/python3.6/site-packages/tensorflow/python/client/session.py\u001b[0m in \u001b[0;36m_run_fn\u001b[0;34m(session, feed_dict, fetch_list, target_list, options, run_metadata)\u001b[0m\n\u001b[1;32m   1019\u001b[0m         return tf_session.TF_Run(session, options,\n\u001b[1;32m   1020\u001b[0m                                  \u001b[0mfeed_dict\u001b[0m\u001b[0;34m,\u001b[0m \u001b[0mfetch_list\u001b[0m\u001b[0;34m,\u001b[0m \u001b[0mtarget_list\u001b[0m\u001b[0;34m,\u001b[0m\u001b[0;34m\u001b[0m\u001b[0m\n\u001b[0;32m-> 1021\u001b[0;31m                                  status, run_metadata)\n\u001b[0m\u001b[1;32m   1022\u001b[0m \u001b[0;34m\u001b[0m\u001b[0m\n\u001b[1;32m   1023\u001b[0m     \u001b[0;32mdef\u001b[0m \u001b[0m_prun_fn\u001b[0m\u001b[0;34m(\u001b[0m\u001b[0msession\u001b[0m\u001b[0;34m,\u001b[0m \u001b[0mhandle\u001b[0m\u001b[0;34m,\u001b[0m \u001b[0mfeed_dict\u001b[0m\u001b[0;34m,\u001b[0m \u001b[0mfetch_list\u001b[0m\u001b[0;34m)\u001b[0m\u001b[0;34m:\u001b[0m\u001b[0;34m\u001b[0m\u001b[0m\n",
      "\u001b[0;31mKeyboardInterrupt\u001b[0m: "
     ]
    }
   ],
   "source": [
    "image = 102\n",
    "model = resnet\n",
    "\n",
    "_ = attack(image, model)"
   ]
  },
  {
   "cell_type": "markdown",
   "metadata": {},
   "source": [
    "### Conclusion\n",
    "\n",
    "It appears that the accuracy of a model is not strongly correlated with the chance of performing a successful attack on an image. \n",
    "\n",
    "\n"
   ]
  }
 ],
 "metadata": {
  "kernelspec": {
   "display_name": "Python 3",
   "language": "python",
   "name": "python3"
  },
  "language_info": {
   "codemirror_mode": {
    "name": "ipython",
    "version": 3
   },
   "file_extension": ".py",
   "mimetype": "text/x-python",
   "name": "python",
   "nbconvert_exporter": "python",
   "pygments_lexer": "ipython3",
   "version": "3.6.4"
  }
 },
 "nbformat": 4,
 "nbformat_minor": 2
}
